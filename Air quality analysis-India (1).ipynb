{
 "cells": [
  {
   "cell_type": "markdown",
   "id": "59b28a15",
   "metadata": {},
   "source": [
    "#### loading libraries"
   ]
  },
  {
   "cell_type": "code",
   "execution_count": 174,
   "id": "0bb807ca",
   "metadata": {},
   "outputs": [],
   "source": [
    "import numpy as np\n",
    "import pandas as pd\n",
    "import matplotlib.pyplot as plt\n",
    "import seaborn as sns"
   ]
  },
  {
   "cell_type": "markdown",
   "id": "1d0f2ef7",
   "metadata": {},
   "source": [
    "#### loading dataset"
   ]
  },
  {
   "cell_type": "code",
   "execution_count": 175,
   "id": "6cccda66",
   "metadata": {},
   "outputs": [],
   "source": [
    "city_day = pd.read_csv(\"D:\\\\air_quality_india\\city_day.csv\")\n",
    "city_hour = pd.read_csv(\"D:\\\\air_quality_india\\city_hour.csv\")\n",
    "station_day = pd.read_csv(\"D:\\\\air_quality_india\\station_day.csv\")\n",
    "#station_hour = pd.read_csv(\"D:\\\\air_quality_india\\station_hour.csv\")\n",
    "station_hour = pd.read_csv(\"D:\\\\air_quality_india\\station_hour.csv\", low_memory=False)\n",
    "stations = pd.read_csv(\"D:\\\\air_quality_india\\stations.csv\")"
   ]
  },
  {
   "cell_type": "markdown",
   "id": "cde94340",
   "metadata": {},
   "source": [
    "#### data preprocessing"
   ]
  },
  {
   "cell_type": "code",
   "execution_count": 176,
   "id": "ca5719ea",
   "metadata": {},
   "outputs": [
    {
     "data": {
      "text/html": [
       "<div>\n",
       "<style scoped>\n",
       "    .dataframe tbody tr th:only-of-type {\n",
       "        vertical-align: middle;\n",
       "    }\n",
       "\n",
       "    .dataframe tbody tr th {\n",
       "        vertical-align: top;\n",
       "    }\n",
       "\n",
       "    .dataframe thead th {\n",
       "        text-align: right;\n",
       "    }\n",
       "</style>\n",
       "<table border=\"1\" class=\"dataframe\">\n",
       "  <thead>\n",
       "    <tr style=\"text-align: right;\">\n",
       "      <th></th>\n",
       "      <th>City</th>\n",
       "      <th>Datetime</th>\n",
       "      <th>PM2.5</th>\n",
       "      <th>PM10</th>\n",
       "      <th>NO</th>\n",
       "      <th>NO2</th>\n",
       "      <th>NOx</th>\n",
       "      <th>NH3</th>\n",
       "      <th>CO</th>\n",
       "      <th>SO2</th>\n",
       "      <th>O3</th>\n",
       "      <th>Benzene</th>\n",
       "      <th>Toluene</th>\n",
       "      <th>Xylene</th>\n",
       "      <th>AQI</th>\n",
       "      <th>AQI_Bucket</th>\n",
       "    </tr>\n",
       "  </thead>\n",
       "  <tbody>\n",
       "    <tr>\n",
       "      <th>0</th>\n",
       "      <td>Ahmedabad</td>\n",
       "      <td>2015-01-01 01:00:00</td>\n",
       "      <td>NaN</td>\n",
       "      <td>NaN</td>\n",
       "      <td>1.00</td>\n",
       "      <td>40.01</td>\n",
       "      <td>36.37</td>\n",
       "      <td>NaN</td>\n",
       "      <td>1.00</td>\n",
       "      <td>122.07</td>\n",
       "      <td>NaN</td>\n",
       "      <td>0.0</td>\n",
       "      <td>0.0</td>\n",
       "      <td>0.0</td>\n",
       "      <td>NaN</td>\n",
       "      <td>NaN</td>\n",
       "    </tr>\n",
       "    <tr>\n",
       "      <th>1</th>\n",
       "      <td>Ahmedabad</td>\n",
       "      <td>2015-01-01 02:00:00</td>\n",
       "      <td>NaN</td>\n",
       "      <td>NaN</td>\n",
       "      <td>0.02</td>\n",
       "      <td>27.75</td>\n",
       "      <td>19.73</td>\n",
       "      <td>NaN</td>\n",
       "      <td>0.02</td>\n",
       "      <td>85.90</td>\n",
       "      <td>NaN</td>\n",
       "      <td>0.0</td>\n",
       "      <td>0.0</td>\n",
       "      <td>0.0</td>\n",
       "      <td>NaN</td>\n",
       "      <td>NaN</td>\n",
       "    </tr>\n",
       "    <tr>\n",
       "      <th>2</th>\n",
       "      <td>Ahmedabad</td>\n",
       "      <td>2015-01-01 03:00:00</td>\n",
       "      <td>NaN</td>\n",
       "      <td>NaN</td>\n",
       "      <td>0.08</td>\n",
       "      <td>19.32</td>\n",
       "      <td>11.08</td>\n",
       "      <td>NaN</td>\n",
       "      <td>0.08</td>\n",
       "      <td>52.83</td>\n",
       "      <td>NaN</td>\n",
       "      <td>0.0</td>\n",
       "      <td>0.0</td>\n",
       "      <td>0.0</td>\n",
       "      <td>NaN</td>\n",
       "      <td>NaN</td>\n",
       "    </tr>\n",
       "    <tr>\n",
       "      <th>3</th>\n",
       "      <td>Ahmedabad</td>\n",
       "      <td>2015-01-01 04:00:00</td>\n",
       "      <td>NaN</td>\n",
       "      <td>NaN</td>\n",
       "      <td>0.30</td>\n",
       "      <td>16.45</td>\n",
       "      <td>9.20</td>\n",
       "      <td>NaN</td>\n",
       "      <td>0.30</td>\n",
       "      <td>39.53</td>\n",
       "      <td>153.58</td>\n",
       "      <td>0.0</td>\n",
       "      <td>0.0</td>\n",
       "      <td>0.0</td>\n",
       "      <td>NaN</td>\n",
       "      <td>NaN</td>\n",
       "    </tr>\n",
       "    <tr>\n",
       "      <th>4</th>\n",
       "      <td>Ahmedabad</td>\n",
       "      <td>2015-01-01 05:00:00</td>\n",
       "      <td>NaN</td>\n",
       "      <td>NaN</td>\n",
       "      <td>0.12</td>\n",
       "      <td>14.90</td>\n",
       "      <td>7.85</td>\n",
       "      <td>NaN</td>\n",
       "      <td>0.12</td>\n",
       "      <td>32.63</td>\n",
       "      <td>NaN</td>\n",
       "      <td>0.0</td>\n",
       "      <td>0.0</td>\n",
       "      <td>0.0</td>\n",
       "      <td>NaN</td>\n",
       "      <td>NaN</td>\n",
       "    </tr>\n",
       "  </tbody>\n",
       "</table>\n",
       "</div>"
      ],
      "text/plain": [
       "        City             Datetime  PM2.5  PM10    NO    NO2    NOx  NH3    CO  \\\n",
       "0  Ahmedabad  2015-01-01 01:00:00    NaN   NaN  1.00  40.01  36.37  NaN  1.00   \n",
       "1  Ahmedabad  2015-01-01 02:00:00    NaN   NaN  0.02  27.75  19.73  NaN  0.02   \n",
       "2  Ahmedabad  2015-01-01 03:00:00    NaN   NaN  0.08  19.32  11.08  NaN  0.08   \n",
       "3  Ahmedabad  2015-01-01 04:00:00    NaN   NaN  0.30  16.45   9.20  NaN  0.30   \n",
       "4  Ahmedabad  2015-01-01 05:00:00    NaN   NaN  0.12  14.90   7.85  NaN  0.12   \n",
       "\n",
       "      SO2      O3  Benzene  Toluene  Xylene  AQI AQI_Bucket  \n",
       "0  122.07     NaN      0.0      0.0     0.0  NaN        NaN  \n",
       "1   85.90     NaN      0.0      0.0     0.0  NaN        NaN  \n",
       "2   52.83     NaN      0.0      0.0     0.0  NaN        NaN  \n",
       "3   39.53  153.58      0.0      0.0     0.0  NaN        NaN  \n",
       "4   32.63     NaN      0.0      0.0     0.0  NaN        NaN  "
      ]
     },
     "execution_count": 176,
     "metadata": {},
     "output_type": "execute_result"
    }
   ],
   "source": [
    "city_hour.head()"
   ]
  },
  {
   "cell_type": "code",
   "execution_count": 177,
   "id": "af571d54",
   "metadata": {},
   "outputs": [
    {
     "name": "stdout",
     "output_type": "stream",
     "text": [
      "<class 'pandas.core.frame.DataFrame'>\n",
      "RangeIndex: 707875 entries, 0 to 707874\n",
      "Data columns (total 16 columns):\n",
      " #   Column      Non-Null Count   Dtype  \n",
      "---  ------      --------------   -----  \n",
      " 0   City        707875 non-null  object \n",
      " 1   Datetime    707875 non-null  object \n",
      " 2   PM2.5       562787 non-null  float64\n",
      " 3   PM10        411138 non-null  float64\n",
      " 4   NO          591243 non-null  float64\n",
      " 5   NO2         590753 non-null  float64\n",
      " 6   NOx         584651 non-null  float64\n",
      " 7   NH3         435333 non-null  float64\n",
      " 8   CO          621358 non-null  float64\n",
      " 9   SO2         577502 non-null  float64\n",
      " 10  O3          578667 non-null  float64\n",
      " 11  Benzene     544229 non-null  float64\n",
      " 12  Toluene     487268 non-null  float64\n",
      " 13  Xylene      252046 non-null  float64\n",
      " 14  AQI         578795 non-null  float64\n",
      " 15  AQI_Bucket  578795 non-null  object \n",
      "dtypes: float64(13), object(3)\n",
      "memory usage: 86.4+ MB\n"
     ]
    }
   ],
   "source": [
    "city_hour.info()"
   ]
  },
  {
   "cell_type": "code",
   "execution_count": 178,
   "id": "31af7f46",
   "metadata": {},
   "outputs": [
    {
     "data": {
      "text/plain": [
       "(707875, 16)"
      ]
     },
     "execution_count": 178,
     "metadata": {},
     "output_type": "execute_result"
    }
   ],
   "source": [
    "city_hour.shape"
   ]
  },
  {
   "cell_type": "markdown",
   "id": "386ccd5b",
   "metadata": {},
   "source": [
    "#### missing value"
   ]
  },
  {
   "cell_type": "code",
   "execution_count": 179,
   "id": "b32366ab",
   "metadata": {
    "scrolled": true
   },
   "outputs": [
    {
     "data": {
      "text/plain": [
       "City               0\n",
       "Datetime           0\n",
       "PM2.5         145088\n",
       "PM10          296737\n",
       "NO            116632\n",
       "NO2           117122\n",
       "NOx           123224\n",
       "NH3           272542\n",
       "CO             86517\n",
       "SO2           130373\n",
       "O3            129208\n",
       "Benzene       163646\n",
       "Toluene       220607\n",
       "Xylene        455829\n",
       "AQI           129080\n",
       "AQI_Bucket    129080\n",
       "dtype: int64"
      ]
     },
     "execution_count": 179,
     "metadata": {},
     "output_type": "execute_result"
    }
   ],
   "source": [
    "city_hour.isnull().sum()"
   ]
  },
  {
   "cell_type": "markdown",
   "id": "cdd8907c",
   "metadata": {},
   "source": [
    "#### we have alot of columns which has missing values so we handle missing values in next steps."
   ]
  },
  {
   "cell_type": "code",
   "execution_count": 180,
   "id": "346dec15",
   "metadata": {},
   "outputs": [],
   "source": [
    "city_hour['PM2.5'] = city_hour['PM2.5'].fillna(city_hour['PM2.5'].mean())\n",
    "city_hour['PM10'] = city_hour['PM10'].fillna(city_hour['PM10'].mean())\n",
    "city_hour['NO'] = city_hour['NO'].fillna(city_hour['NO'].mean())\n",
    "city_hour['NO2'] = city_hour['NO2'].fillna(city_hour['NO2'].mean())\n",
    "city_hour['NOx'] = city_hour['NOx'].fillna(city_hour['NOx'].mean())\n",
    "city_hour['NH3'] = city_hour['NH3'].fillna(city_hour['NH3'].mean())\n",
    "city_hour['CO'] = city_hour['CO'].fillna(city_hour['CO'].mean())\n",
    "city_hour['SO2'] = city_hour['SO2'].fillna(city_hour['SO2'].mean())\n",
    "city_hour['O3'] = city_hour['O3'].fillna(city_hour['O3'].mean())\n",
    "city_hour['Benzene'] = city_hour['Benzene'].fillna(city_hour['Benzene'].mean())\n",
    "city_hour['Toluene'] = city_hour['Toluene'].fillna(city_hour['Toluene'].mean())\n",
    "city_hour['Xylene'] = city_hour['Xylene'].fillna(city_hour['Xylene'].mean())"
   ]
  },
  {
   "cell_type": "code",
   "execution_count": 181,
   "id": "6ca58d42",
   "metadata": {
    "scrolled": true
   },
   "outputs": [],
   "source": [
    "#city_hour['AQI'].value_counts()"
   ]
  },
  {
   "cell_type": "code",
   "execution_count": 182,
   "id": "9c9a633c",
   "metadata": {},
   "outputs": [],
   "source": [
    "#city_hour['AQI'] = city_hour['AQI'].fillna('166.463581')"
   ]
  },
  {
   "cell_type": "code",
   "execution_count": 183,
   "id": "daeb9475",
   "metadata": {},
   "outputs": [
    {
     "data": {
      "text/plain": [
       "AQI_Bucket\n",
       "Moderate        198991\n",
       "Satisfactory    189434\n",
       "Poor             66654\n",
       "Very Poor        57455\n",
       "Good             38611\n",
       "Severe           27650\n",
       "Name: count, dtype: int64"
      ]
     },
     "execution_count": 183,
     "metadata": {},
     "output_type": "execute_result"
    }
   ],
   "source": [
    "city_hour['AQI_Bucket'].value_counts()"
   ]
  },
  {
   "cell_type": "code",
   "execution_count": 184,
   "id": "46cbc966",
   "metadata": {},
   "outputs": [],
   "source": [
    "city_hour['AQI_Bucket'] = city_hour['AQI_Bucket'].fillna('Moderate')"
   ]
  },
  {
   "cell_type": "code",
   "execution_count": 185,
   "id": "460a3082",
   "metadata": {},
   "outputs": [
    {
     "data": {
      "text/plain": [
       "City               0\n",
       "Datetime           0\n",
       "PM2.5              0\n",
       "PM10               0\n",
       "NO                 0\n",
       "NO2                0\n",
       "NOx                0\n",
       "NH3                0\n",
       "CO                 0\n",
       "SO2                0\n",
       "O3                 0\n",
       "Benzene            0\n",
       "Toluene            0\n",
       "Xylene             0\n",
       "AQI           129080\n",
       "AQI_Bucket         0\n",
       "dtype: int64"
      ]
     },
     "execution_count": 185,
     "metadata": {},
     "output_type": "execute_result"
    }
   ],
   "source": [
    "city_hour.isnull().sum()"
   ]
  },
  {
   "cell_type": "markdown",
   "id": "9ed345d4",
   "metadata": {},
   "source": [
    "#### EDA"
   ]
  },
  {
   "cell_type": "code",
   "execution_count": 186,
   "id": "a6d5b59f",
   "metadata": {},
   "outputs": [
    {
     "data": {
      "text/html": [
       "<div>\n",
       "<style scoped>\n",
       "    .dataframe tbody tr th:only-of-type {\n",
       "        vertical-align: middle;\n",
       "    }\n",
       "\n",
       "    .dataframe tbody tr th {\n",
       "        vertical-align: top;\n",
       "    }\n",
       "\n",
       "    .dataframe thead th {\n",
       "        text-align: right;\n",
       "    }\n",
       "</style>\n",
       "<table border=\"1\" class=\"dataframe\">\n",
       "  <thead>\n",
       "    <tr style=\"text-align: right;\">\n",
       "      <th></th>\n",
       "      <th>City</th>\n",
       "      <th>AQI</th>\n",
       "    </tr>\n",
       "  </thead>\n",
       "  <tbody>\n",
       "    <tr>\n",
       "      <th>0</th>\n",
       "      <td>Aizawl</td>\n",
       "      <td>23.0</td>\n",
       "    </tr>\n",
       "    <tr>\n",
       "      <th>1</th>\n",
       "      <td>Shillong</td>\n",
       "      <td>48.0</td>\n",
       "    </tr>\n",
       "    <tr>\n",
       "      <th>2</th>\n",
       "      <td>Thiruvananthapuram</td>\n",
       "      <td>68.0</td>\n",
       "    </tr>\n",
       "    <tr>\n",
       "      <th>3</th>\n",
       "      <td>Coimbatore</td>\n",
       "      <td>74.0</td>\n",
       "    </tr>\n",
       "    <tr>\n",
       "      <th>4</th>\n",
       "      <td>Amaravati</td>\n",
       "      <td>78.0</td>\n",
       "    </tr>\n",
       "  </tbody>\n",
       "</table>\n",
       "</div>"
      ],
      "text/plain": [
       "                 City   AQI\n",
       "0              Aizawl  23.0\n",
       "1            Shillong  48.0\n",
       "2  Thiruvananthapuram  68.0\n",
       "3          Coimbatore  74.0\n",
       "4           Amaravati  78.0"
      ]
     },
     "execution_count": 186,
     "metadata": {},
     "output_type": "execute_result"
    }
   ],
   "source": [
    "city_wise_AQI = city_hour[['City','AQI']].groupby(['City']).median().sort_values(['AQI']).reset_index()\n",
    "city_wise_AQI.head()"
   ]
  },
  {
   "cell_type": "code",
   "execution_count": 187,
   "id": "784448d0",
   "metadata": {},
   "outputs": [
    {
     "data": {
      "image/png": "[encoded data removed]",
      "text/plain": [
       "<Figure size 1080x360 with 1 Axes>"
      ]
     },
     "metadata": {},
     "output_type": "display_data"
    }
   ],
   "source": [
    "plt.figure(figsize=(15,5))\n",
    "sns.barplot(x= city_hour.City, y= city_hour.AQI ).set(title ='Cities & AQI')\n",
    "plt.xticks(rotation=90)\n",
    "plt.show()"
   ]
  },
  {
   "cell_type": "markdown",
   "id": "d6439870",
   "metadata": {},
   "source": [
    "### On Average, Aizwal has been the city with the best AQI and Delhi, Ahmedabad, Lucknow have very poor AQ-indices."
   ]
  },
  {
   "cell_type": "code",
   "execution_count": 188,
   "id": "94a1b13c",
   "metadata": {},
   "outputs": [],
   "source": [
    "import datetime as dt\n",
    "city_hour['Date'] = pd.to_datetime(city_hour['Datetime'])\n",
    "city_hour['year'] = city_hour['Date'].dt.year\n",
    "city_hour['month'] = city_hour['Date'].dt.month\n",
    "city_hour.drop('Date',axis=1,inplace=True)"
   ]
  },
  {
   "cell_type": "code",
   "execution_count": 189,
   "id": "05236fe0",
   "metadata": {},
   "outputs": [
    {
     "data": {
      "text/html": [
       "<div>\n",
       "<style scoped>\n",
       "    .dataframe tbody tr th:only-of-type {\n",
       "        vertical-align: middle;\n",
       "    }\n",
       "\n",
       "    .dataframe tbody tr th {\n",
       "        vertical-align: top;\n",
       "    }\n",
       "\n",
       "    .dataframe thead th {\n",
       "        text-align: right;\n",
       "    }\n",
       "</style>\n",
       "<table border=\"1\" class=\"dataframe\">\n",
       "  <thead>\n",
       "    <tr style=\"text-align: right;\">\n",
       "      <th></th>\n",
       "      <th>City</th>\n",
       "      <th>Datetime</th>\n",
       "      <th>PM2.5</th>\n",
       "      <th>PM10</th>\n",
       "      <th>NO</th>\n",
       "      <th>NO2</th>\n",
       "      <th>NOx</th>\n",
       "      <th>NH3</th>\n",
       "      <th>CO</th>\n",
       "      <th>SO2</th>\n",
       "      <th>O3</th>\n",
       "      <th>Benzene</th>\n",
       "      <th>Toluene</th>\n",
       "      <th>Xylene</th>\n",
       "      <th>AQI</th>\n",
       "      <th>AQI_Bucket</th>\n",
       "      <th>year</th>\n",
       "      <th>month</th>\n",
       "    </tr>\n",
       "  </thead>\n",
       "  <tbody>\n",
       "    <tr>\n",
       "      <th>0</th>\n",
       "      <td>Ahmedabad</td>\n",
       "      <td>2015-01-01 01:00:00</td>\n",
       "      <td>67.622994</td>\n",
       "      <td>119.075804</td>\n",
       "      <td>1.00</td>\n",
       "      <td>40.01</td>\n",
       "      <td>36.37</td>\n",
       "      <td>23.607959</td>\n",
       "      <td>1.00</td>\n",
       "      <td>122.07</td>\n",
       "      <td>34.798979</td>\n",
       "      <td>0.0</td>\n",
       "      <td>0.0</td>\n",
       "      <td>0.0</td>\n",
       "      <td>NaN</td>\n",
       "      <td>Moderate</td>\n",
       "      <td>2015</td>\n",
       "      <td>1</td>\n",
       "    </tr>\n",
       "    <tr>\n",
       "      <th>1</th>\n",
       "      <td>Ahmedabad</td>\n",
       "      <td>2015-01-01 02:00:00</td>\n",
       "      <td>67.622994</td>\n",
       "      <td>119.075804</td>\n",
       "      <td>0.02</td>\n",
       "      <td>27.75</td>\n",
       "      <td>19.73</td>\n",
       "      <td>23.607959</td>\n",
       "      <td>0.02</td>\n",
       "      <td>85.90</td>\n",
       "      <td>34.798979</td>\n",
       "      <td>0.0</td>\n",
       "      <td>0.0</td>\n",
       "      <td>0.0</td>\n",
       "      <td>NaN</td>\n",
       "      <td>Moderate</td>\n",
       "      <td>2015</td>\n",
       "      <td>1</td>\n",
       "    </tr>\n",
       "    <tr>\n",
       "      <th>2</th>\n",
       "      <td>Ahmedabad</td>\n",
       "      <td>2015-01-01 03:00:00</td>\n",
       "      <td>67.622994</td>\n",
       "      <td>119.075804</td>\n",
       "      <td>0.08</td>\n",
       "      <td>19.32</td>\n",
       "      <td>11.08</td>\n",
       "      <td>23.607959</td>\n",
       "      <td>0.08</td>\n",
       "      <td>52.83</td>\n",
       "      <td>34.798979</td>\n",
       "      <td>0.0</td>\n",
       "      <td>0.0</td>\n",
       "      <td>0.0</td>\n",
       "      <td>NaN</td>\n",
       "      <td>Moderate</td>\n",
       "      <td>2015</td>\n",
       "      <td>1</td>\n",
       "    </tr>\n",
       "    <tr>\n",
       "      <th>3</th>\n",
       "      <td>Ahmedabad</td>\n",
       "      <td>2015-01-01 04:00:00</td>\n",
       "      <td>67.622994</td>\n",
       "      <td>119.075804</td>\n",
       "      <td>0.30</td>\n",
       "      <td>16.45</td>\n",
       "      <td>9.20</td>\n",
       "      <td>23.607959</td>\n",
       "      <td>0.30</td>\n",
       "      <td>39.53</td>\n",
       "      <td>153.580000</td>\n",
       "      <td>0.0</td>\n",
       "      <td>0.0</td>\n",
       "      <td>0.0</td>\n",
       "      <td>NaN</td>\n",
       "      <td>Moderate</td>\n",
       "      <td>2015</td>\n",
       "      <td>1</td>\n",
       "    </tr>\n",
       "    <tr>\n",
       "      <th>4</th>\n",
       "      <td>Ahmedabad</td>\n",
       "      <td>2015-01-01 05:00:00</td>\n",
       "      <td>67.622994</td>\n",
       "      <td>119.075804</td>\n",
       "      <td>0.12</td>\n",
       "      <td>14.90</td>\n",
       "      <td>7.85</td>\n",
       "      <td>23.607959</td>\n",
       "      <td>0.12</td>\n",
       "      <td>32.63</td>\n",
       "      <td>34.798979</td>\n",
       "      <td>0.0</td>\n",
       "      <td>0.0</td>\n",
       "      <td>0.0</td>\n",
       "      <td>NaN</td>\n",
       "      <td>Moderate</td>\n",
       "      <td>2015</td>\n",
       "      <td>1</td>\n",
       "    </tr>\n",
       "  </tbody>\n",
       "</table>\n",
       "</div>"
      ],
      "text/plain": [
       "        City             Datetime      PM2.5        PM10    NO    NO2    NOx  \\\n",
       "0  Ahmedabad  2015-01-01 01:00:00  67.622994  119.075804  1.00  40.01  36.37   \n",
       "1  Ahmedabad  2015-01-01 02:00:00  67.622994  119.075804  0.02  27.75  19.73   \n",
       "2  Ahmedabad  2015-01-01 03:00:00  67.622994  119.075804  0.08  19.32  11.08   \n",
       "3  Ahmedabad  2015-01-01 04:00:00  67.622994  119.075804  0.30  16.45   9.20   \n",
       "4  Ahmedabad  2015-01-01 05:00:00  67.622994  119.075804  0.12  14.90   7.85   \n",
       "\n",
       "         NH3    CO     SO2          O3  Benzene  Toluene  Xylene  AQI  \\\n",
       "0  23.607959  1.00  122.07   34.798979      0.0      0.0     0.0  NaN   \n",
       "1  23.607959  0.02   85.90   34.798979      0.0      0.0     0.0  NaN   \n",
       "2  23.607959  0.08   52.83   34.798979      0.0      0.0     0.0  NaN   \n",
       "3  23.607959  0.30   39.53  153.580000      0.0      0.0     0.0  NaN   \n",
       "4  23.607959  0.12   32.63   34.798979      0.0      0.0     0.0  NaN   \n",
       "\n",
       "  AQI_Bucket  year  month  \n",
       "0   Moderate  2015      1  \n",
       "1   Moderate  2015      1  \n",
       "2   Moderate  2015      1  \n",
       "3   Moderate  2015      1  \n",
       "4   Moderate  2015      1  "
      ]
     },
     "execution_count": 189,
     "metadata": {},
     "output_type": "execute_result"
    }
   ],
   "source": [
    "city_hour.head()"
   ]
  },
  {
   "cell_type": "code",
   "execution_count": 190,
   "id": "9b1162d1",
   "metadata": {},
   "outputs": [
    {
     "data": {
      "image/png": "[encoded data removed]",
      "text/plain": [
       "<Figure size 1296x504 with 1 Axes>"
      ]
     },
     "metadata": {},
     "output_type": "display_data"
    }
   ],
   "source": [
    "plt.figure(figsize=(18,7))\n",
    "sns.set(font_scale=1.5)\n",
    "sns.barplot(x='City', y='AQI', data=city_hour,hue='year',palette='bright').set(title ='year wise AQI of states')\n",
    "plt.xticks(rotation=90)\n",
    "plt.show()"
   ]
  },
  {
   "cell_type": "markdown",
   "id": "c0f25236",
   "metadata": {},
   "source": [
    "### The plot shows a huge spike in the AQI for the city of Ahmedabad during the years 2018 & 2019"
   ]
  },
  {
   "cell_type": "code",
   "execution_count": 191,
   "id": "0f982ba4",
   "metadata": {},
   "outputs": [],
   "source": [
    "month_wise = city_hour.groupby(['City','month']).agg(\n",
    "    #month = pd.NamedAgg(column='month',aggfunc = max),\n",
    "    AQI = pd.NamedAgg(column = 'AQI',aggfunc = np.mean))\n",
    "month_wise.reset_index(inplace = True)"
   ]
  },
  {
   "cell_type": "code",
   "execution_count": 192,
   "id": "400a69aa",
   "metadata": {},
   "outputs": [
    {
     "data": {
      "text/html": [
       "<div>\n",
       "<style scoped>\n",
       "    .dataframe tbody tr th:only-of-type {\n",
       "        vertical-align: middle;\n",
       "    }\n",
       "\n",
       "    .dataframe tbody tr th {\n",
       "        vertical-align: top;\n",
       "    }\n",
       "\n",
       "    .dataframe thead th {\n",
       "        text-align: right;\n",
       "    }\n",
       "</style>\n",
       "<table border=\"1\" class=\"dataframe\">\n",
       "  <thead>\n",
       "    <tr style=\"text-align: right;\">\n",
       "      <th></th>\n",
       "      <th>City</th>\n",
       "      <th>month</th>\n",
       "      <th>AQI</th>\n",
       "    </tr>\n",
       "  </thead>\n",
       "  <tbody>\n",
       "    <tr>\n",
       "      <th>0</th>\n",
       "      <td>Ahmedabad</td>\n",
       "      <td>1</td>\n",
       "      <td>598.442354</td>\n",
       "    </tr>\n",
       "    <tr>\n",
       "      <th>1</th>\n",
       "      <td>Ahmedabad</td>\n",
       "      <td>2</td>\n",
       "      <td>642.737132</td>\n",
       "    </tr>\n",
       "    <tr>\n",
       "      <th>2</th>\n",
       "      <td>Ahmedabad</td>\n",
       "      <td>3</td>\n",
       "      <td>522.690459</td>\n",
       "    </tr>\n",
       "    <tr>\n",
       "      <th>3</th>\n",
       "      <td>Ahmedabad</td>\n",
       "      <td>4</td>\n",
       "      <td>403.286046</td>\n",
       "    </tr>\n",
       "    <tr>\n",
       "      <th>4</th>\n",
       "      <td>Ahmedabad</td>\n",
       "      <td>5</td>\n",
       "      <td>274.363001</td>\n",
       "    </tr>\n",
       "  </tbody>\n",
       "</table>\n",
       "</div>"
      ],
      "text/plain": [
       "        City  month         AQI\n",
       "0  Ahmedabad      1  598.442354\n",
       "1  Ahmedabad      2  642.737132\n",
       "2  Ahmedabad      3  522.690459\n",
       "3  Ahmedabad      4  403.286046\n",
       "4  Ahmedabad      5  274.363001"
      ]
     },
     "execution_count": 192,
     "metadata": {},
     "output_type": "execute_result"
    }
   ],
   "source": [
    "month_wise.head()"
   ]
  },
  {
   "cell_type": "code",
   "execution_count": 193,
   "id": "632f5944",
   "metadata": {},
   "outputs": [
    {
     "data": {
      "text/html": [
       "<div>\n",
       "<style scoped>\n",
       "    .dataframe tbody tr th:only-of-type {\n",
       "        vertical-align: middle;\n",
       "    }\n",
       "\n",
       "    .dataframe tbody tr th {\n",
       "        vertical-align: top;\n",
       "    }\n",
       "\n",
       "    .dataframe thead th {\n",
       "        text-align: right;\n",
       "    }\n",
       "</style>\n",
       "<table border=\"1\" class=\"dataframe\">\n",
       "  <thead>\n",
       "    <tr style=\"text-align: right;\">\n",
       "      <th></th>\n",
       "      <th>City</th>\n",
       "      <th>AQI</th>\n",
       "    </tr>\n",
       "  </thead>\n",
       "  <tbody>\n",
       "    <tr>\n",
       "      <th>25127</th>\n",
       "      <td>Ahmedabad</td>\n",
       "      <td>3133.0</td>\n",
       "    </tr>\n",
       "    <tr>\n",
       "      <th>25128</th>\n",
       "      <td>Ahmedabad</td>\n",
       "      <td>3133.0</td>\n",
       "    </tr>\n",
       "    <tr>\n",
       "      <th>25133</th>\n",
       "      <td>Ahmedabad</td>\n",
       "      <td>3133.0</td>\n",
       "    </tr>\n",
       "    <tr>\n",
       "      <th>25132</th>\n",
       "      <td>Ahmedabad</td>\n",
       "      <td>3133.0</td>\n",
       "    </tr>\n",
       "    <tr>\n",
       "      <th>25131</th>\n",
       "      <td>Ahmedabad</td>\n",
       "      <td>3133.0</td>\n",
       "    </tr>\n",
       "  </tbody>\n",
       "</table>\n",
       "</div>"
      ],
      "text/plain": [
       "            City     AQI\n",
       "25127  Ahmedabad  3133.0\n",
       "25128  Ahmedabad  3133.0\n",
       "25133  Ahmedabad  3133.0\n",
       "25132  Ahmedabad  3133.0\n",
       "25131  Ahmedabad  3133.0"
      ]
     },
     "execution_count": 193,
     "metadata": {},
     "output_type": "execute_result"
    }
   ],
   "source": [
    "city_hour[city_hour['City']=='Ahmedabad'].sort_values('AQI',ascending=False).head()[['City','AQI']]"
   ]
  },
  {
   "cell_type": "code",
   "execution_count": 194,
   "id": "7d237b2e",
   "metadata": {},
   "outputs": [
    {
     "data": {
      "image/png": "[encoded data removed]",
      "text/plain": [
       "<Figure size 1296x720 with 1 Axes>"
      ]
     },
     "metadata": {},
     "output_type": "display_data"
    }
   ],
   "source": [
    "plt.figure(figsize=(18,10))\n",
    "sns.set(font_scale=1.5)\n",
    "sns.barplot(x='City', y='AQI', data=month_wise,hue='month',palette = 'bright').set(title ='Month wise AQI of states')\n",
    "plt.xticks(rotation=90)\n",
    "plt.show()"
   ]
  },
  {
   "cell_type": "markdown",
   "id": "26d65ef8",
   "metadata": {},
   "source": [
    "### Tha AQI among most cities spiked on Nov, Dec, Jan & Feb months, Could be an indicator of how the way of celebrating certain festivals(which fall during or close to these months) effect the environment around us."
   ]
  },
  {
   "cell_type": "markdown",
   "id": "46aaf910",
   "metadata": {},
   "source": [
    "# now we look at different cities"
   ]
  },
  {
   "cell_type": "code",
   "execution_count": 195,
   "id": "da3315dd",
   "metadata": {},
   "outputs": [
    {
     "data": {
      "text/html": [
       "<div>\n",
       "<style scoped>\n",
       "    .dataframe tbody tr th:only-of-type {\n",
       "        vertical-align: middle;\n",
       "    }\n",
       "\n",
       "    .dataframe tbody tr th {\n",
       "        vertical-align: top;\n",
       "    }\n",
       "\n",
       "    .dataframe thead th {\n",
       "        text-align: right;\n",
       "    }\n",
       "</style>\n",
       "<table border=\"1\" class=\"dataframe\">\n",
       "  <thead>\n",
       "    <tr style=\"text-align: right;\">\n",
       "      <th></th>\n",
       "      <th>City</th>\n",
       "      <th>Date</th>\n",
       "      <th>PM2.5</th>\n",
       "      <th>PM10</th>\n",
       "      <th>NO</th>\n",
       "      <th>NO2</th>\n",
       "      <th>NOx</th>\n",
       "      <th>NH3</th>\n",
       "      <th>CO</th>\n",
       "      <th>SO2</th>\n",
       "      <th>O3</th>\n",
       "      <th>Benzene</th>\n",
       "      <th>Toluene</th>\n",
       "      <th>Xylene</th>\n",
       "      <th>AQI</th>\n",
       "      <th>AQI_Bucket</th>\n",
       "    </tr>\n",
       "  </thead>\n",
       "  <tbody>\n",
       "    <tr>\n",
       "      <th>0</th>\n",
       "      <td>Ahmedabad</td>\n",
       "      <td>2015-01-01</td>\n",
       "      <td>NaN</td>\n",
       "      <td>NaN</td>\n",
       "      <td>0.92</td>\n",
       "      <td>18.22</td>\n",
       "      <td>17.15</td>\n",
       "      <td>NaN</td>\n",
       "      <td>0.92</td>\n",
       "      <td>27.64</td>\n",
       "      <td>133.36</td>\n",
       "      <td>0.00</td>\n",
       "      <td>0.02</td>\n",
       "      <td>0.00</td>\n",
       "      <td>NaN</td>\n",
       "      <td>NaN</td>\n",
       "    </tr>\n",
       "    <tr>\n",
       "      <th>1</th>\n",
       "      <td>Ahmedabad</td>\n",
       "      <td>2015-01-02</td>\n",
       "      <td>NaN</td>\n",
       "      <td>NaN</td>\n",
       "      <td>0.97</td>\n",
       "      <td>15.69</td>\n",
       "      <td>16.46</td>\n",
       "      <td>NaN</td>\n",
       "      <td>0.97</td>\n",
       "      <td>24.55</td>\n",
       "      <td>34.06</td>\n",
       "      <td>3.68</td>\n",
       "      <td>5.50</td>\n",
       "      <td>3.77</td>\n",
       "      <td>NaN</td>\n",
       "      <td>NaN</td>\n",
       "    </tr>\n",
       "    <tr>\n",
       "      <th>2</th>\n",
       "      <td>Ahmedabad</td>\n",
       "      <td>2015-01-03</td>\n",
       "      <td>NaN</td>\n",
       "      <td>NaN</td>\n",
       "      <td>17.40</td>\n",
       "      <td>19.30</td>\n",
       "      <td>29.70</td>\n",
       "      <td>NaN</td>\n",
       "      <td>17.40</td>\n",
       "      <td>29.07</td>\n",
       "      <td>30.70</td>\n",
       "      <td>6.80</td>\n",
       "      <td>16.40</td>\n",
       "      <td>2.25</td>\n",
       "      <td>NaN</td>\n",
       "      <td>NaN</td>\n",
       "    </tr>\n",
       "    <tr>\n",
       "      <th>3</th>\n",
       "      <td>Ahmedabad</td>\n",
       "      <td>2015-01-04</td>\n",
       "      <td>NaN</td>\n",
       "      <td>NaN</td>\n",
       "      <td>1.70</td>\n",
       "      <td>18.48</td>\n",
       "      <td>17.97</td>\n",
       "      <td>NaN</td>\n",
       "      <td>1.70</td>\n",
       "      <td>18.59</td>\n",
       "      <td>36.08</td>\n",
       "      <td>4.43</td>\n",
       "      <td>10.14</td>\n",
       "      <td>1.00</td>\n",
       "      <td>NaN</td>\n",
       "      <td>NaN</td>\n",
       "    </tr>\n",
       "    <tr>\n",
       "      <th>4</th>\n",
       "      <td>Ahmedabad</td>\n",
       "      <td>2015-01-05</td>\n",
       "      <td>NaN</td>\n",
       "      <td>NaN</td>\n",
       "      <td>22.10</td>\n",
       "      <td>21.42</td>\n",
       "      <td>37.76</td>\n",
       "      <td>NaN</td>\n",
       "      <td>22.10</td>\n",
       "      <td>39.33</td>\n",
       "      <td>39.31</td>\n",
       "      <td>7.01</td>\n",
       "      <td>18.89</td>\n",
       "      <td>2.78</td>\n",
       "      <td>NaN</td>\n",
       "      <td>NaN</td>\n",
       "    </tr>\n",
       "  </tbody>\n",
       "</table>\n",
       "</div>"
      ],
      "text/plain": [
       "        City        Date  PM2.5  PM10     NO    NO2    NOx  NH3     CO    SO2  \\\n",
       "0  Ahmedabad  2015-01-01    NaN   NaN   0.92  18.22  17.15  NaN   0.92  27.64   \n",
       "1  Ahmedabad  2015-01-02    NaN   NaN   0.97  15.69  16.46  NaN   0.97  24.55   \n",
       "2  Ahmedabad  2015-01-03    NaN   NaN  17.40  19.30  29.70  NaN  17.40  29.07   \n",
       "3  Ahmedabad  2015-01-04    NaN   NaN   1.70  18.48  17.97  NaN   1.70  18.59   \n",
       "4  Ahmedabad  2015-01-05    NaN   NaN  22.10  21.42  37.76  NaN  22.10  39.33   \n",
       "\n",
       "       O3  Benzene  Toluene  Xylene  AQI AQI_Bucket  \n",
       "0  133.36     0.00     0.02    0.00  NaN        NaN  \n",
       "1   34.06     3.68     5.50    3.77  NaN        NaN  \n",
       "2   30.70     6.80    16.40    2.25  NaN        NaN  \n",
       "3   36.08     4.43    10.14    1.00  NaN        NaN  \n",
       "4   39.31     7.01    18.89    2.78  NaN        NaN  "
      ]
     },
     "execution_count": 195,
     "metadata": {},
     "output_type": "execute_result"
    }
   ],
   "source": [
    "city_day.head()"
   ]
  },
  {
   "cell_type": "markdown",
   "id": "2d104bbd",
   "metadata": {},
   "source": [
    "#### data preprocessing"
   ]
  },
  {
   "cell_type": "code",
   "execution_count": 196,
   "id": "ad830a2d",
   "metadata": {},
   "outputs": [
    {
     "data": {
      "text/plain": [
       "(29531, 16)"
      ]
     },
     "execution_count": 196,
     "metadata": {},
     "output_type": "execute_result"
    }
   ],
   "source": [
    "city_day.shape"
   ]
  },
  {
   "cell_type": "code",
   "execution_count": 197,
   "id": "6d1bc858",
   "metadata": {},
   "outputs": [
    {
     "data": {
      "text/plain": [
       "26"
      ]
     },
     "execution_count": 197,
     "metadata": {},
     "output_type": "execute_result"
    }
   ],
   "source": [
    "city_day['City'].nunique()"
   ]
  },
  {
   "cell_type": "markdown",
   "id": "3f4a2608",
   "metadata": {},
   "source": [
    "#### handling missing values"
   ]
  },
  {
   "cell_type": "code",
   "execution_count": 198,
   "id": "7e65ce0d",
   "metadata": {},
   "outputs": [
    {
     "data": {
      "text/plain": [
       "City              0\n",
       "Date              0\n",
       "PM2.5          4598\n",
       "PM10          11140\n",
       "NO             3582\n",
       "NO2            3585\n",
       "NOx            4185\n",
       "NH3           10328\n",
       "CO             2059\n",
       "SO2            3854\n",
       "O3             4022\n",
       "Benzene        5623\n",
       "Toluene        8041\n",
       "Xylene        18109\n",
       "AQI            4681\n",
       "AQI_Bucket     4681\n",
       "dtype: int64"
      ]
     },
     "execution_count": 198,
     "metadata": {},
     "output_type": "execute_result"
    }
   ],
   "source": [
    "city_day.isnull().sum()"
   ]
  },
  {
   "cell_type": "code",
   "execution_count": 199,
   "id": "04c0e6d3",
   "metadata": {},
   "outputs": [
    {
     "data": {
      "text/plain": [
       "Index(['City', 'Date', 'PM2.5', 'PM10', 'NO', 'NO2', 'NOx', 'NH3', 'CO', 'SO2',\n",
       "       'O3', 'Benzene', 'Toluene', 'Xylene', 'AQI', 'AQI_Bucket'],\n",
       "      dtype='object')"
      ]
     },
     "execution_count": 199,
     "metadata": {},
     "output_type": "execute_result"
    }
   ],
   "source": [
    "cols = city_day.columns\n",
    "cols"
   ]
  },
  {
   "cell_type": "code",
   "execution_count": 200,
   "id": "8df2626f",
   "metadata": {},
   "outputs": [],
   "source": [
    "col_to_fill = ['PM2.5', 'PM10', 'NO', 'NO2', 'NOx', 'NH3', 'CO', 'SO2',\n",
    "       'O3', 'Benzene', 'Toluene', 'Xylene','AQI']"
   ]
  },
  {
   "cell_type": "code",
   "execution_count": 201,
   "id": "ccbe4e76",
   "metadata": {},
   "outputs": [],
   "source": [
    "#df = df.fillna(df.mean())\n",
    "for col in col_to_fill:\n",
    "    city_day[col] = city_day[col].fillna(city_day[col].median())"
   ]
  },
  {
   "cell_type": "code",
   "execution_count": 202,
   "id": "7b2a6235",
   "metadata": {},
   "outputs": [],
   "source": [
    "city_day['AQI_Bucket'] = city_day['AQI_Bucket'].fillna('Moderate')"
   ]
  },
  {
   "cell_type": "code",
   "execution_count": 203,
   "id": "7c5b560f",
   "metadata": {},
   "outputs": [
    {
     "data": {
      "text/plain": [
       "City          0\n",
       "Date          0\n",
       "PM2.5         0\n",
       "PM10          0\n",
       "NO            0\n",
       "NO2           0\n",
       "NOx           0\n",
       "NH3           0\n",
       "CO            0\n",
       "SO2           0\n",
       "O3            0\n",
       "Benzene       0\n",
       "Toluene       0\n",
       "Xylene        0\n",
       "AQI           0\n",
       "AQI_Bucket    0\n",
       "dtype: int64"
      ]
     },
     "execution_count": 203,
     "metadata": {},
     "output_type": "execute_result"
    }
   ],
   "source": [
    "city_day.isnull().sum()"
   ]
  },
  {
   "cell_type": "code",
   "execution_count": 204,
   "id": "bfa30f9c",
   "metadata": {},
   "outputs": [
    {
     "data": {
      "text/html": [
       "<div>\n",
       "<style scoped>\n",
       "    .dataframe tbody tr th:only-of-type {\n",
       "        vertical-align: middle;\n",
       "    }\n",
       "\n",
       "    .dataframe tbody tr th {\n",
       "        vertical-align: top;\n",
       "    }\n",
       "\n",
       "    .dataframe thead th {\n",
       "        text-align: right;\n",
       "    }\n",
       "</style>\n",
       "<table border=\"1\" class=\"dataframe\">\n",
       "  <thead>\n",
       "    <tr style=\"text-align: right;\">\n",
       "      <th></th>\n",
       "      <th>PM2.5</th>\n",
       "      <th>PM10</th>\n",
       "      <th>NO</th>\n",
       "      <th>NO2</th>\n",
       "      <th>NOx</th>\n",
       "      <th>NH3</th>\n",
       "      <th>CO</th>\n",
       "      <th>SO2</th>\n",
       "      <th>O3</th>\n",
       "      <th>Benzene</th>\n",
       "      <th>Toluene</th>\n",
       "      <th>Xylene</th>\n",
       "      <th>AQI</th>\n",
       "    </tr>\n",
       "  </thead>\n",
       "  <tbody>\n",
       "    <tr>\n",
       "      <th>0</th>\n",
       "      <td>48.57</td>\n",
       "      <td>95.68</td>\n",
       "      <td>0.92</td>\n",
       "      <td>18.22</td>\n",
       "      <td>17.15</td>\n",
       "      <td>15.85</td>\n",
       "      <td>0.92</td>\n",
       "      <td>27.64</td>\n",
       "      <td>133.36</td>\n",
       "      <td>0.00</td>\n",
       "      <td>0.02</td>\n",
       "      <td>0.00</td>\n",
       "      <td>118.0</td>\n",
       "    </tr>\n",
       "    <tr>\n",
       "      <th>1</th>\n",
       "      <td>48.57</td>\n",
       "      <td>95.68</td>\n",
       "      <td>0.97</td>\n",
       "      <td>15.69</td>\n",
       "      <td>16.46</td>\n",
       "      <td>15.85</td>\n",
       "      <td>0.97</td>\n",
       "      <td>24.55</td>\n",
       "      <td>34.06</td>\n",
       "      <td>3.68</td>\n",
       "      <td>5.50</td>\n",
       "      <td>3.77</td>\n",
       "      <td>118.0</td>\n",
       "    </tr>\n",
       "    <tr>\n",
       "      <th>2</th>\n",
       "      <td>48.57</td>\n",
       "      <td>95.68</td>\n",
       "      <td>17.40</td>\n",
       "      <td>19.30</td>\n",
       "      <td>29.70</td>\n",
       "      <td>15.85</td>\n",
       "      <td>17.40</td>\n",
       "      <td>29.07</td>\n",
       "      <td>30.70</td>\n",
       "      <td>6.80</td>\n",
       "      <td>16.40</td>\n",
       "      <td>2.25</td>\n",
       "      <td>118.0</td>\n",
       "    </tr>\n",
       "    <tr>\n",
       "      <th>3</th>\n",
       "      <td>48.57</td>\n",
       "      <td>95.68</td>\n",
       "      <td>1.70</td>\n",
       "      <td>18.48</td>\n",
       "      <td>17.97</td>\n",
       "      <td>15.85</td>\n",
       "      <td>1.70</td>\n",
       "      <td>18.59</td>\n",
       "      <td>36.08</td>\n",
       "      <td>4.43</td>\n",
       "      <td>10.14</td>\n",
       "      <td>1.00</td>\n",
       "      <td>118.0</td>\n",
       "    </tr>\n",
       "    <tr>\n",
       "      <th>4</th>\n",
       "      <td>48.57</td>\n",
       "      <td>95.68</td>\n",
       "      <td>22.10</td>\n",
       "      <td>21.42</td>\n",
       "      <td>37.76</td>\n",
       "      <td>15.85</td>\n",
       "      <td>22.10</td>\n",
       "      <td>39.33</td>\n",
       "      <td>39.31</td>\n",
       "      <td>7.01</td>\n",
       "      <td>18.89</td>\n",
       "      <td>2.78</td>\n",
       "      <td>118.0</td>\n",
       "    </tr>\n",
       "  </tbody>\n",
       "</table>\n",
       "</div>"
      ],
      "text/plain": [
       "   PM2.5   PM10     NO    NO2    NOx    NH3     CO    SO2      O3  Benzene  \\\n",
       "0  48.57  95.68   0.92  18.22  17.15  15.85   0.92  27.64  133.36     0.00   \n",
       "1  48.57  95.68   0.97  15.69  16.46  15.85   0.97  24.55   34.06     3.68   \n",
       "2  48.57  95.68  17.40  19.30  29.70  15.85  17.40  29.07   30.70     6.80   \n",
       "3  48.57  95.68   1.70  18.48  17.97  15.85   1.70  18.59   36.08     4.43   \n",
       "4  48.57  95.68  22.10  21.42  37.76  15.85  22.10  39.33   39.31     7.01   \n",
       "\n",
       "   Toluene  Xylene    AQI  \n",
       "0     0.02    0.00  118.0  \n",
       "1     5.50    3.77  118.0  \n",
       "2    16.40    2.25  118.0  \n",
       "3    10.14    1.00  118.0  \n",
       "4    18.89    2.78  118.0  "
      ]
     },
     "execution_count": 204,
     "metadata": {},
     "output_type": "execute_result"
    }
   ],
   "source": [
    "df= city_day.drop(columns = ['City','Date','AQI_Bucket'])\n",
    "df.head()"
   ]
  },
  {
   "cell_type": "markdown",
   "id": "b65327b1",
   "metadata": {},
   "source": [
    "### Data Modeling"
   ]
  },
  {
   "cell_type": "code",
   "execution_count": 205,
   "id": "8589f4a2",
   "metadata": {},
   "outputs": [
    {
     "name": "stdout",
     "output_type": "stream",
     "text": [
      "(29531, 12)\n",
      "(29531,)\n"
     ]
    }
   ],
   "source": [
    "X=df.drop(['AQI'],axis=1)\n",
    "y=df['AQI']\n",
    "print(X.shape)\n",
    "print(y.shape)"
   ]
  },
  {
   "cell_type": "code",
   "execution_count": 206,
   "id": "718bd44f",
   "metadata": {},
   "outputs": [],
   "source": [
    "from sklearn.model_selection import train_test_split"
   ]
  },
  {
   "cell_type": "code",
   "execution_count": 207,
   "id": "52847e87",
   "metadata": {},
   "outputs": [
    {
     "name": "stdout",
     "output_type": "stream",
     "text": [
      "X_train (23624, 12)\n",
      "X_test (5907, 12)\n",
      "y_train (23624,)\n",
      "y_test (5907,)\n"
     ]
    }
   ],
   "source": [
    "X_train,X_test,y_train,y_test = train_test_split(X,y,test_size=0.2)\n",
    "print('X_train',X_train.shape)\n",
    "print('X_test',X_test.shape)\n",
    "print('y_train',y_train.shape)\n",
    "print('y_test',y_test.shape)"
   ]
  },
  {
   "cell_type": "code",
   "execution_count": 208,
   "id": "eacabae7",
   "metadata": {},
   "outputs": [],
   "source": [
    "from sklearn.preprocessing import StandardScaler"
   ]
  },
  {
   "cell_type": "code",
   "execution_count": 209,
   "id": "86aa4a9b",
   "metadata": {},
   "outputs": [],
   "source": [
    "ss = StandardScaler()\n",
    "scaler = StandardScaler()\n",
    "X_train = pd.DataFrame(scaler.fit_transform(X_train),columns=X_train.columns)\n",
    "\n",
    "X_test = pd.DataFrame(scaler.transform(X_test),columns=X_test.columns)"
   ]
  },
  {
   "cell_type": "markdown",
   "id": "90425d27",
   "metadata": {},
   "source": [
    "### GradientBoostingRegressor"
   ]
  },
  {
   "cell_type": "code",
   "execution_count": 210,
   "id": "4590d87f",
   "metadata": {},
   "outputs": [
    {
     "data": {
      "text/plain": [
       "0.8762111463780022"
      ]
     },
     "execution_count": 210,
     "metadata": {},
     "output_type": "execute_result"
    }
   ],
   "source": [
    "from sklearn.ensemble import GradientBoostingRegressor\n",
    "GBR=GradientBoostingRegressor()\n",
    "GBR.fit(X_train,y_train)\n",
    "GBR.score(X_test,y_test)"
   ]
  },
  {
   "cell_type": "code",
   "execution_count": 211,
   "id": "131f06a9",
   "metadata": {},
   "outputs": [
    {
     "name": "stdout",
     "output_type": "stream",
     "text": [
      "train mse: 1693.7238309134111\n",
      "train rmse: 41.15487614989761\n",
      "train r2: 0.8989817307346941\n",
      "\n",
      "test mse: 2200.5762686437524\n",
      "test rmse: 46.910300240392324\n",
      "test r2: 0.8762111463780022\n"
     ]
    }
   ],
   "source": [
    "from sklearn.metrics import mean_squared_error, r2_score\n",
    "\n",
    "t_pred=GBR.predict(X_train)\n",
    "print('train mse: {}'.format(\n",
    "    mean_squared_error((y_train), (t_pred))))\n",
    "print('train rmse: {}'.format(\n",
    "    mean_squared_error((y_train), (t_pred), squared=False)))\n",
    "print('train r2: {}'.format(\n",
    "    r2_score((y_train), (t_pred))))\n",
    "print()\n",
    "\n",
    "\n",
    "y_pred=GBR.predict(X_test)\n",
    "print('test mse: {}'.format(\n",
    "    mean_squared_error((y_test), (y_pred))))\n",
    "print('test rmse: {}'.format(\n",
    "    mean_squared_error((y_test), (y_pred), squared=False)))\n",
    "print('test r2: {}'.format(\n",
    "    r2_score((y_test), (y_pred))))"
   ]
  },
  {
   "cell_type": "markdown",
   "id": "8b34dbf5",
   "metadata": {},
   "source": [
    "### Decision Trees"
   ]
  },
  {
   "cell_type": "code",
   "execution_count": 212,
   "id": "7561c6c2",
   "metadata": {},
   "outputs": [
    {
     "data": {
      "text/plain": [
       "0.8415769811004119"
      ]
     },
     "execution_count": 212,
     "metadata": {},
     "output_type": "execute_result"
    }
   ],
   "source": [
    "from sklearn.tree import DecisionTreeRegressor\n",
    "regressor = DecisionTreeRegressor(max_depth=5)\n",
    "regressor.fit(X_train, y_train)\n",
    "regressor.score(X_test,y_test)"
   ]
  },
  {
   "cell_type": "code",
   "execution_count": 213,
   "id": "d7243f84",
   "metadata": {},
   "outputs": [
    {
     "name": "stdout",
     "output_type": "stream",
     "text": [
      "train mse: 2578.3806740027667\n",
      "train rmse: 50.77775767009377\n",
      "train r2: 0.8462184044169666\n",
      "\n",
      "test mse: 2816.262737692749\n",
      "test rmse: 53.068472162789355\n",
      "test r2: 0.8415769811004119\n"
     ]
    }
   ],
   "source": [
    "from sklearn.metrics import mean_squared_error, r2_score\n",
    "\n",
    "t_pred=regressor.predict(X_train)\n",
    "print('train mse: {}'.format(\n",
    "    mean_squared_error((y_train), (t_pred))))\n",
    "print('train rmse: {}'.format(\n",
    "    mean_squared_error((y_train), (t_pred), squared=False)))\n",
    "print('train r2: {}'.format(\n",
    "    r2_score((y_train), (t_pred))))\n",
    "print()\n",
    "\n",
    "\n",
    "y_pred=regressor.predict(X_test)\n",
    "print('test mse: {}'.format(\n",
    "    mean_squared_error((y_test), (y_pred))))\n",
    "print('test rmse: {}'.format(\n",
    "    mean_squared_error((y_test), (y_pred), squared=False)))\n",
    "print('test r2: {}'.format(\n",
    "    r2_score((y_test), (y_pred))))"
   ]
  },
  {
   "cell_type": "markdown",
   "id": "fb4fc5a6",
   "metadata": {},
   "source": [
    "### Linear Regression"
   ]
  },
  {
   "cell_type": "code",
   "execution_count": 214,
   "id": "e7fa0238",
   "metadata": {},
   "outputs": [
    {
     "data": {
      "text/plain": [
       "0.8099811971320393"
      ]
     },
     "execution_count": 214,
     "metadata": {},
     "output_type": "execute_result"
    }
   ],
   "source": [
    "from sklearn.linear_model import LinearRegression\n",
    "l = LinearRegression()\n",
    "l.fit(X_train, y_train)\n",
    "l.score(X_test,y_test)"
   ]
  },
  {
   "cell_type": "code",
   "execution_count": 215,
   "id": "4cdbb82d",
   "metadata": {},
   "outputs": [
    {
     "name": "stdout",
     "output_type": "stream",
     "text": [
      "train mse: 3539.0543739730374\n",
      "train rmse: 59.4899518740185\n",
      "train r2: 0.7889212271980817\n",
      "\n",
      "test mse: 3377.9363484873784\n",
      "test rmse: 58.120016762621276\n",
      "test r2: 0.8099811971320393\n"
     ]
    }
   ],
   "source": [
    "from sklearn.metrics import mean_squared_error, r2_score\n",
    "\n",
    "t_pred=l.predict(X_train)\n",
    "print('train mse: {}'.format(\n",
    "    mean_squared_error((y_train), (t_pred))))\n",
    "print('train rmse: {}'.format(\n",
    "    mean_squared_error((y_train), (t_pred), squared=False)))\n",
    "print('train r2: {}'.format(\n",
    "    r2_score((y_train), (t_pred))))\n",
    "print()\n",
    "\n",
    "\n",
    "y_pred=l.predict(X_test)\n",
    "print('test mse: {}'.format(\n",
    "    mean_squared_error((y_test), (y_pred))))\n",
    "print('test rmse: {}'.format(\n",
    "    mean_squared_error((y_test), (y_pred), squared=False)))\n",
    "print('test r2: {}'.format(\n",
    "    r2_score((y_test), (y_pred))))"
   ]
  },
  {
   "cell_type": "markdown",
   "id": "86824d3c",
   "metadata": {},
   "source": [
    "### Random Forest "
   ]
  },
  {
   "cell_type": "code",
   "execution_count": 216,
   "id": "a37f7f14",
   "metadata": {},
   "outputs": [
    {
     "data": {
      "text/plain": [
       "0.8883940916899562"
      ]
     },
     "execution_count": 216,
     "metadata": {},
     "output_type": "execute_result"
    }
   ],
   "source": [
    "from sklearn.ensemble import RandomForestRegressor\n",
    "rf_model = RandomForestRegressor(n_estimators=100, random_state=42)\n",
    "rf_model.fit(X_train, y_train)\n",
    "rf_model.score(X_test,y_test)"
   ]
  },
  {
   "cell_type": "code",
   "execution_count": 217,
   "id": "99a3352d",
   "metadata": {},
   "outputs": [
    {
     "name": "stdout",
     "output_type": "stream",
     "text": [
      "train mse: 317.15334457411814\n",
      "train rmse: 17.8087996387774\n",
      "train r2: 0.9810841169169223\n",
      "\n",
      "test mse: 1984.0018392727832\n",
      "test rmse: 44.54213554908188\n",
      "test r2: 0.8883940916899562\n"
     ]
    }
   ],
   "source": [
    "from sklearn.metrics import mean_squared_error, r2_score\n",
    "\n",
    "t_pred=rf_model.predict(X_train)\n",
    "print('train mse: {}'.format(\n",
    "    mean_squared_error((y_train), (t_pred))))\n",
    "print('train rmse: {}'.format(\n",
    "    mean_squared_error((y_train), (t_pred), squared=False)))\n",
    "print('train r2: {}'.format(\n",
    "    r2_score((y_train), (t_pred))))\n",
    "print()\n",
    "\n",
    "\n",
    "y_pred=rf_model.predict(X_test)\n",
    "print('test mse: {}'.format(\n",
    "    mean_squared_error((y_test), (y_pred))))\n",
    "print('test rmse: {}'.format(\n",
    "    mean_squared_error((y_test), (y_pred), squared=False)))\n",
    "print('test r2: {}'.format(\n",
    "    r2_score((y_test), (y_pred))))"
   ]
  },
  {
   "cell_type": "markdown",
   "id": "8ccb3044",
   "metadata": {},
   "source": [
    "## Out of all Random Forest Regressor performs better than above all regression algorithms"
   ]
  },
  {
   "cell_type": "code",
   "execution_count": null,
   "id": "3a504a8a",
   "metadata": {},
   "outputs": [],
   "source": []
  }
 ],
 "metadata": {
  "kernelspec": {
   "display_name": "Python 3",
   "language": "python",
   "name": "python3"
  },
  "language_info": {
   "codemirror_mode": {
    "name": "ipython",
    "version": 3
   },
   "file_extension": ".py",
   "mimetype": "text/x-python",
   "name": "python",
   "nbconvert_exporter": "python",
   "pygments_lexer": "ipython3",
   "version": "3.8.8"
  }
 },
 "nbformat": 4,
 "nbformat_minor": 5
}
