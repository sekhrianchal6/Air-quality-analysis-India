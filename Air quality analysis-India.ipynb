{
 "cells": [
  {
   "cell_type": "markdown",
   "id": "59b28a15",
   "metadata": {},
   "source": [
    "#### loading libraries"
   ]
  },
  {
   "cell_type": "code",
   "execution_count": 13,
   "id": "0bb807ca",
   "metadata": {},
   "outputs": [],
   "source": [
    "import numpy as np\n",
    "import pandas as pd\n",
    "import matplotlib.pyplot as plt\n",
    "import seaborn as sns"
   ]
  },
  {
   "cell_type": "markdown",
   "id": "1d0f2ef7",
   "metadata": {},
   "source": [
    "#### loading dataset"
   ]
  },
  {
   "cell_type": "code",
   "execution_count": 3,
   "id": "6cccda66",
   "metadata": {},
   "outputs": [
    {
     "name": "stderr",
     "output_type": "stream",
     "text": [
      "<ipython-input-3-09090eda1a27>:4: DtypeWarning: Columns (15) have mixed types. Specify dtype option on import or set low_memory=False.\n",
      "  station_hour = pd.read_csv(\"D:\\\\air_quality_india\\station_hour.csv\")\n"
     ]
    }
   ],
   "source": [
    "city_day = pd.read_csv(\"D:\\\\air_quality_india\\city_day.csv\")\n",
    "city_hour = pd.read_csv(\"D:\\\\air_quality_india\\city_hour.csv\")\n",
    "station_day = pd.read_csv(\"D:\\\\air_quality_india\\station_day.csv\")\n",
    "station_hour = pd.read_csv(\"D:\\\\air_quality_india\\station_hour.csv\")\n",
    "stations = pd.read_csv(\"D:\\\\air_quality_india\\stations.csv\")"
   ]
  },
  {
   "cell_type": "markdown",
   "id": "cde94340",
   "metadata": {},
   "source": [
    "#### data preprocessing"
   ]
  },
  {
   "cell_type": "code",
   "execution_count": 4,
   "id": "ca5719ea",
   "metadata": {},
   "outputs": [
    {
     "data": {
      "text/html": [
       "<div>\n",
       "<style scoped>\n",
       "    .dataframe tbody tr th:only-of-type {\n",
       "        vertical-align: middle;\n",
       "    }\n",
       "\n",
       "    .dataframe tbody tr th {\n",
       "        vertical-align: top;\n",
       "    }\n",
       "\n",
       "    .dataframe thead th {\n",
       "        text-align: right;\n",
       "    }\n",
       "</style>\n",
       "<table border=\"1\" class=\"dataframe\">\n",
       "  <thead>\n",
       "    <tr style=\"text-align: right;\">\n",
       "      <th></th>\n",
       "      <th>City</th>\n",
       "      <th>Datetime</th>\n",
       "      <th>PM2.5</th>\n",
       "      <th>PM10</th>\n",
       "      <th>NO</th>\n",
       "      <th>NO2</th>\n",
       "      <th>NOx</th>\n",
       "      <th>NH3</th>\n",
       "      <th>CO</th>\n",
       "      <th>SO2</th>\n",
       "      <th>O3</th>\n",
       "      <th>Benzene</th>\n",
       "      <th>Toluene</th>\n",
       "      <th>Xylene</th>\n",
       "      <th>AQI</th>\n",
       "      <th>AQI_Bucket</th>\n",
       "    </tr>\n",
       "  </thead>\n",
       "  <tbody>\n",
       "    <tr>\n",
       "      <th>0</th>\n",
       "      <td>Ahmedabad</td>\n",
       "      <td>2015-01-01 01:00:00</td>\n",
       "      <td>NaN</td>\n",
       "      <td>NaN</td>\n",
       "      <td>1.00</td>\n",
       "      <td>40.01</td>\n",
       "      <td>36.37</td>\n",
       "      <td>NaN</td>\n",
       "      <td>1.00</td>\n",
       "      <td>122.07</td>\n",
       "      <td>NaN</td>\n",
       "      <td>0.0</td>\n",
       "      <td>0.0</td>\n",
       "      <td>0.0</td>\n",
       "      <td>NaN</td>\n",
       "      <td>NaN</td>\n",
       "    </tr>\n",
       "    <tr>\n",
       "      <th>1</th>\n",
       "      <td>Ahmedabad</td>\n",
       "      <td>2015-01-01 02:00:00</td>\n",
       "      <td>NaN</td>\n",
       "      <td>NaN</td>\n",
       "      <td>0.02</td>\n",
       "      <td>27.75</td>\n",
       "      <td>19.73</td>\n",
       "      <td>NaN</td>\n",
       "      <td>0.02</td>\n",
       "      <td>85.90</td>\n",
       "      <td>NaN</td>\n",
       "      <td>0.0</td>\n",
       "      <td>0.0</td>\n",
       "      <td>0.0</td>\n",
       "      <td>NaN</td>\n",
       "      <td>NaN</td>\n",
       "    </tr>\n",
       "    <tr>\n",
       "      <th>2</th>\n",
       "      <td>Ahmedabad</td>\n",
       "      <td>2015-01-01 03:00:00</td>\n",
       "      <td>NaN</td>\n",
       "      <td>NaN</td>\n",
       "      <td>0.08</td>\n",
       "      <td>19.32</td>\n",
       "      <td>11.08</td>\n",
       "      <td>NaN</td>\n",
       "      <td>0.08</td>\n",
       "      <td>52.83</td>\n",
       "      <td>NaN</td>\n",
       "      <td>0.0</td>\n",
       "      <td>0.0</td>\n",
       "      <td>0.0</td>\n",
       "      <td>NaN</td>\n",
       "      <td>NaN</td>\n",
       "    </tr>\n",
       "    <tr>\n",
       "      <th>3</th>\n",
       "      <td>Ahmedabad</td>\n",
       "      <td>2015-01-01 04:00:00</td>\n",
       "      <td>NaN</td>\n",
       "      <td>NaN</td>\n",
       "      <td>0.30</td>\n",
       "      <td>16.45</td>\n",
       "      <td>9.20</td>\n",
       "      <td>NaN</td>\n",
       "      <td>0.30</td>\n",
       "      <td>39.53</td>\n",
       "      <td>153.58</td>\n",
       "      <td>0.0</td>\n",
       "      <td>0.0</td>\n",
       "      <td>0.0</td>\n",
       "      <td>NaN</td>\n",
       "      <td>NaN</td>\n",
       "    </tr>\n",
       "    <tr>\n",
       "      <th>4</th>\n",
       "      <td>Ahmedabad</td>\n",
       "      <td>2015-01-01 05:00:00</td>\n",
       "      <td>NaN</td>\n",
       "      <td>NaN</td>\n",
       "      <td>0.12</td>\n",
       "      <td>14.90</td>\n",
       "      <td>7.85</td>\n",
       "      <td>NaN</td>\n",
       "      <td>0.12</td>\n",
       "      <td>32.63</td>\n",
       "      <td>NaN</td>\n",
       "      <td>0.0</td>\n",
       "      <td>0.0</td>\n",
       "      <td>0.0</td>\n",
       "      <td>NaN</td>\n",
       "      <td>NaN</td>\n",
       "    </tr>\n",
       "  </tbody>\n",
       "</table>\n",
       "</div>"
      ],
      "text/plain": [
       "        City             Datetime  PM2.5  PM10    NO    NO2    NOx  NH3    CO  \\\n",
       "0  Ahmedabad  2015-01-01 01:00:00    NaN   NaN  1.00  40.01  36.37  NaN  1.00   \n",
       "1  Ahmedabad  2015-01-01 02:00:00    NaN   NaN  0.02  27.75  19.73  NaN  0.02   \n",
       "2  Ahmedabad  2015-01-01 03:00:00    NaN   NaN  0.08  19.32  11.08  NaN  0.08   \n",
       "3  Ahmedabad  2015-01-01 04:00:00    NaN   NaN  0.30  16.45   9.20  NaN  0.30   \n",
       "4  Ahmedabad  2015-01-01 05:00:00    NaN   NaN  0.12  14.90   7.85  NaN  0.12   \n",
       "\n",
       "      SO2      O3  Benzene  Toluene  Xylene  AQI AQI_Bucket  \n",
       "0  122.07     NaN      0.0      0.0     0.0  NaN        NaN  \n",
       "1   85.90     NaN      0.0      0.0     0.0  NaN        NaN  \n",
       "2   52.83     NaN      0.0      0.0     0.0  NaN        NaN  \n",
       "3   39.53  153.58      0.0      0.0     0.0  NaN        NaN  \n",
       "4   32.63     NaN      0.0      0.0     0.0  NaN        NaN  "
      ]
     },
     "execution_count": 4,
     "metadata": {},
     "output_type": "execute_result"
    }
   ],
   "source": [
    "city_hour.head()"
   ]
  },
  {
   "cell_type": "code",
   "execution_count": 5,
   "id": "af571d54",
   "metadata": {},
   "outputs": [
    {
     "name": "stdout",
     "output_type": "stream",
     "text": [
      "<class 'pandas.core.frame.DataFrame'>\n",
      "RangeIndex: 707875 entries, 0 to 707874\n",
      "Data columns (total 16 columns):\n",
      " #   Column      Non-Null Count   Dtype  \n",
      "---  ------      --------------   -----  \n",
      " 0   City        707875 non-null  object \n",
      " 1   Datetime    707875 non-null  object \n",
      " 2   PM2.5       562787 non-null  float64\n",
      " 3   PM10        411138 non-null  float64\n",
      " 4   NO          591243 non-null  float64\n",
      " 5   NO2         590753 non-null  float64\n",
      " 6   NOx         584651 non-null  float64\n",
      " 7   NH3         435333 non-null  float64\n",
      " 8   CO          621358 non-null  float64\n",
      " 9   SO2         577502 non-null  float64\n",
      " 10  O3          578667 non-null  float64\n",
      " 11  Benzene     544229 non-null  float64\n",
      " 12  Toluene     487268 non-null  float64\n",
      " 13  Xylene      252046 non-null  float64\n",
      " 14  AQI         578795 non-null  float64\n",
      " 15  AQI_Bucket  578795 non-null  object \n",
      "dtypes: float64(13), object(3)\n",
      "memory usage: 86.4+ MB\n"
     ]
    }
   ],
   "source": [
    "city_hour.info()"
   ]
  },
  {
   "cell_type": "code",
   "execution_count": 6,
   "id": "31af7f46",
   "metadata": {},
   "outputs": [
    {
     "data": {
      "text/plain": [
       "(707875, 16)"
      ]
     },
     "execution_count": 6,
     "metadata": {},
     "output_type": "execute_result"
    }
   ],
   "source": [
    "city_hour.shape"
   ]
  },
  {
   "cell_type": "markdown",
   "id": "386ccd5b",
   "metadata": {},
   "source": [
    "#### missing value"
   ]
  },
  {
   "cell_type": "code",
   "execution_count": 7,
   "id": "b32366ab",
   "metadata": {
    "scrolled": true
   },
   "outputs": [
    {
     "data": {
      "text/plain": [
       "City               0\n",
       "Datetime           0\n",
       "PM2.5         145088\n",
       "PM10          296737\n",
       "NO            116632\n",
       "NO2           117122\n",
       "NOx           123224\n",
       "NH3           272542\n",
       "CO             86517\n",
       "SO2           130373\n",
       "O3            129208\n",
       "Benzene       163646\n",
       "Toluene       220607\n",
       "Xylene        455829\n",
       "AQI           129080\n",
       "AQI_Bucket    129080\n",
       "dtype: int64"
      ]
     },
     "execution_count": 7,
     "metadata": {},
     "output_type": "execute_result"
    }
   ],
   "source": [
    "city_hour.isnull().sum()"
   ]
  },
  {
   "cell_type": "code",
   "execution_count": 7,
   "id": "346dec15",
   "metadata": {},
   "outputs": [],
   "source": [
    "city_hour['PM2.5'] = city_hour['PM2.5'].fillna(city_hour['PM2.5'].mean())\n",
    "city_hour['PM10'] = city_hour['PM10'].fillna(city_hour['PM10'].mean())\n",
    "city_hour['NO'] = city_hour['NO'].fillna(city_hour['NO'].mean())\n",
    "city_hour['NO2'] = city_hour['NO2'].fillna(city_hour['NO2'].mean())\n",
    "city_hour['NOx'] = city_hour['NOx'].fillna(city_hour['NOx'].mean())\n",
    "city_hour['CO'] = city_hour['CO'].fillna(city_hour['CO'].mean())\n",
    "city_hour['SO2'] = city_hour['SO2'].fillna(city_hour['SO2'].mean())\n",
    "city_hour['O3'] = city_hour['O3'].fillna(city_hour['O3'].mean())\n",
    "city_hour['Benzene'] = city_hour['Benzene'].fillna(city_hour['Benzene'].mean())\n",
    "city_hour['Toluene'] = city_hour['Toluene'].fillna(city_hour['Toluene'].mean())\n",
    "city_hour['Xylene'] = city_hour['Xylene'].fillna(city_hour['Xylene'].mean())\n",
    "#city_day['AQI'] = city_day['AQI'].fillna(city_day['AQI'].mean())\n",
    "#city_day['AQI_Bucket'] = city_day['AQI_Bucket'].fillna(city_day['AQI_Bucket'].mean())"
   ]
  },
  {
   "cell_type": "markdown",
   "id": "cdd8907c",
   "metadata": {},
   "source": [
    "#### we have alot of columns which has missing values so we handle missing values in next steps."
   ]
  },
  {
   "cell_type": "code",
   "execution_count": 8,
   "id": "460a3082",
   "metadata": {},
   "outputs": [
    {
     "data": {
      "text/plain": [
       "City               0\n",
       "Datetime           0\n",
       "PM2.5         145088\n",
       "PM10          296737\n",
       "NO            116632\n",
       "NO2           117122\n",
       "NOx           123224\n",
       "NH3           272542\n",
       "CO             86517\n",
       "SO2           130373\n",
       "O3            129208\n",
       "Benzene       163646\n",
       "Toluene       220607\n",
       "Xylene        455829\n",
       "AQI           129080\n",
       "AQI_Bucket    129080\n",
       "dtype: int64"
      ]
     },
     "execution_count": 8,
     "metadata": {},
     "output_type": "execute_result"
    }
   ],
   "source": [
    "city_hour.isnull().sum()"
   ]
  },
  {
   "cell_type": "code",
   "execution_count": 9,
   "id": "daeb9475",
   "metadata": {},
   "outputs": [
    {
     "data": {
      "text/plain": [
       "AQI_Bucket\n",
       "Moderate        198991\n",
       "Satisfactory    189434\n",
       "Poor             66654\n",
       "Very Poor        57455\n",
       "Good             38611\n",
       "Severe           27650\n",
       "Name: count, dtype: int64"
      ]
     },
     "execution_count": 9,
     "metadata": {},
     "output_type": "execute_result"
    }
   ],
   "source": [
    "city_hour['AQI_Bucket'].value_counts()"
   ]
  },
  {
   "cell_type": "code",
   "execution_count": 10,
   "id": "46cbc966",
   "metadata": {},
   "outputs": [],
   "source": [
    "city_hour['AQI_Bucket'] = city_hour['AQI_Bucket'].fillna('Moderate')"
   ]
  },
  {
   "cell_type": "code",
   "execution_count": 11,
   "id": "2c86d192",
   "metadata": {},
   "outputs": [
    {
     "data": {
      "text/plain": [
       "City               0\n",
       "Datetime           0\n",
       "PM2.5         145088\n",
       "PM10          296737\n",
       "NO            116632\n",
       "NO2           117122\n",
       "NOx           123224\n",
       "NH3           272542\n",
       "CO             86517\n",
       "SO2           130373\n",
       "O3            129208\n",
       "Benzene       163646\n",
       "Toluene       220607\n",
       "Xylene        455829\n",
       "AQI           129080\n",
       "AQI_Bucket         0\n",
       "dtype: int64"
      ]
     },
     "execution_count": 11,
     "metadata": {},
     "output_type": "execute_result"
    }
   ],
   "source": [
    "city_hour.isnull().sum()"
   ]
  },
  {
   "cell_type": "markdown",
   "id": "9ed345d4",
   "metadata": {},
   "source": [
    "#### EDA"
   ]
  },
  {
   "cell_type": "code",
   "execution_count": 14,
   "id": "a6d5b59f",
   "metadata": {},
   "outputs": [
    {
     "data": {
      "text/html": [
       "<div>\n",
       "<style scoped>\n",
       "    .dataframe tbody tr th:only-of-type {\n",
       "        vertical-align: middle;\n",
       "    }\n",
       "\n",
       "    .dataframe tbody tr th {\n",
       "        vertical-align: top;\n",
       "    }\n",
       "\n",
       "    .dataframe thead th {\n",
       "        text-align: right;\n",
       "    }\n",
       "</style>\n",
       "<table border=\"1\" class=\"dataframe\">\n",
       "  <thead>\n",
       "    <tr style=\"text-align: right;\">\n",
       "      <th></th>\n",
       "      <th>City</th>\n",
       "      <th>AQI</th>\n",
       "    </tr>\n",
       "  </thead>\n",
       "  <tbody>\n",
       "    <tr>\n",
       "      <th>0</th>\n",
       "      <td>Aizawl</td>\n",
       "      <td>23.0</td>\n",
       "    </tr>\n",
       "    <tr>\n",
       "      <th>1</th>\n",
       "      <td>Shillong</td>\n",
       "      <td>48.0</td>\n",
       "    </tr>\n",
       "    <tr>\n",
       "      <th>2</th>\n",
       "      <td>Thiruvananthapuram</td>\n",
       "      <td>68.0</td>\n",
       "    </tr>\n",
       "    <tr>\n",
       "      <th>3</th>\n",
       "      <td>Coimbatore</td>\n",
       "      <td>74.0</td>\n",
       "    </tr>\n",
       "    <tr>\n",
       "      <th>4</th>\n",
       "      <td>Amaravati</td>\n",
       "      <td>78.0</td>\n",
       "    </tr>\n",
       "  </tbody>\n",
       "</table>\n",
       "</div>"
      ],
      "text/plain": [
       "                 City   AQI\n",
       "0              Aizawl  23.0\n",
       "1            Shillong  48.0\n",
       "2  Thiruvananthapuram  68.0\n",
       "3          Coimbatore  74.0\n",
       "4           Amaravati  78.0"
      ]
     },
     "execution_count": 14,
     "metadata": {},
     "output_type": "execute_result"
    }
   ],
   "source": [
    "city_wise_AQI = city_hour[['City','AQI']].groupby(['City']).median().sort_values(['AQI']).reset_index()\n",
    "city_wise_AQI.head()"
   ]
  },
  {
   "cell_type": "code",
   "execution_count": 15,
   "id": "784448d0",
   "metadata": {},
   "outputs": [
    {
     "data": {
      "image/png": "[encoded data removed]",
      "text/plain": [
       "<Figure size 1080x360 with 1 Axes>"
      ]
     },
     "metadata": {
      "needs_background": "light"
     },
     "output_type": "display_data"
    }
   ],
   "source": [
    "plt.figure(figsize=(15,5))\n",
    "sns.barplot(x= city_hour.City, y= city_hour.AQI ).set(title ='Cities & AQI')\n",
    "plt.xticks(rotation=90)\n",
    "plt.show()"
   ]
  },
  {
   "cell_type": "markdown",
   "id": "d6439870",
   "metadata": {},
   "source": [
    "### On Average, Aizwal has been the city with the best AQI and Delhi, Ahmedabad, Lucknow have very poor AQ-indices."
   ]
  },
  {
   "cell_type": "code",
   "execution_count": 16,
   "id": "94a1b13c",
   "metadata": {},
   "outputs": [],
   "source": [
    "import datetime as dt\n",
    "city_hour['Date'] = pd.to_datetime(city_hour['Datetime'])\n",
    "city_hour['year'] = city_hour['Date'].dt.year\n",
    "city_hour['month'] = city_hour['Date'].dt.month\n",
    "city_hour.drop('Date',axis=1,inplace=True)"
   ]
  },
  {
   "cell_type": "code",
   "execution_count": 17,
   "id": "05236fe0",
   "metadata": {},
   "outputs": [
    {
     "data": {
      "text/html": [
       "<div>\n",
       "<style scoped>\n",
       "    .dataframe tbody tr th:only-of-type {\n",
       "        vertical-align: middle;\n",
       "    }\n",
       "\n",
       "    .dataframe tbody tr th {\n",
       "        vertical-align: top;\n",
       "    }\n",
       "\n",
       "    .dataframe thead th {\n",
       "        text-align: right;\n",
       "    }\n",
       "</style>\n",
       "<table border=\"1\" class=\"dataframe\">\n",
       "  <thead>\n",
       "    <tr style=\"text-align: right;\">\n",
       "      <th></th>\n",
       "      <th>City</th>\n",
       "      <th>Datetime</th>\n",
       "      <th>PM2.5</th>\n",
       "      <th>PM10</th>\n",
       "      <th>NO</th>\n",
       "      <th>NO2</th>\n",
       "      <th>NOx</th>\n",
       "      <th>NH3</th>\n",
       "      <th>CO</th>\n",
       "      <th>SO2</th>\n",
       "      <th>O3</th>\n",
       "      <th>Benzene</th>\n",
       "      <th>Toluene</th>\n",
       "      <th>Xylene</th>\n",
       "      <th>AQI</th>\n",
       "      <th>AQI_Bucket</th>\n",
       "      <th>year</th>\n",
       "      <th>month</th>\n",
       "    </tr>\n",
       "  </thead>\n",
       "  <tbody>\n",
       "    <tr>\n",
       "      <th>0</th>\n",
       "      <td>Ahmedabad</td>\n",
       "      <td>2015-01-01 01:00:00</td>\n",
       "      <td>NaN</td>\n",
       "      <td>NaN</td>\n",
       "      <td>1.00</td>\n",
       "      <td>40.01</td>\n",
       "      <td>36.37</td>\n",
       "      <td>NaN</td>\n",
       "      <td>1.00</td>\n",
       "      <td>122.07</td>\n",
       "      <td>NaN</td>\n",
       "      <td>0.0</td>\n",
       "      <td>0.0</td>\n",
       "      <td>0.0</td>\n",
       "      <td>NaN</td>\n",
       "      <td>Moderate</td>\n",
       "      <td>2015</td>\n",
       "      <td>1</td>\n",
       "    </tr>\n",
       "    <tr>\n",
       "      <th>1</th>\n",
       "      <td>Ahmedabad</td>\n",
       "      <td>2015-01-01 02:00:00</td>\n",
       "      <td>NaN</td>\n",
       "      <td>NaN</td>\n",
       "      <td>0.02</td>\n",
       "      <td>27.75</td>\n",
       "      <td>19.73</td>\n",
       "      <td>NaN</td>\n",
       "      <td>0.02</td>\n",
       "      <td>85.90</td>\n",
       "      <td>NaN</td>\n",
       "      <td>0.0</td>\n",
       "      <td>0.0</td>\n",
       "      <td>0.0</td>\n",
       "      <td>NaN</td>\n",
       "      <td>Moderate</td>\n",
       "      <td>2015</td>\n",
       "      <td>1</td>\n",
       "    </tr>\n",
       "    <tr>\n",
       "      <th>2</th>\n",
       "      <td>Ahmedabad</td>\n",
       "      <td>2015-01-01 03:00:00</td>\n",
       "      <td>NaN</td>\n",
       "      <td>NaN</td>\n",
       "      <td>0.08</td>\n",
       "      <td>19.32</td>\n",
       "      <td>11.08</td>\n",
       "      <td>NaN</td>\n",
       "      <td>0.08</td>\n",
       "      <td>52.83</td>\n",
       "      <td>NaN</td>\n",
       "      <td>0.0</td>\n",
       "      <td>0.0</td>\n",
       "      <td>0.0</td>\n",
       "      <td>NaN</td>\n",
       "      <td>Moderate</td>\n",
       "      <td>2015</td>\n",
       "      <td>1</td>\n",
       "    </tr>\n",
       "    <tr>\n",
       "      <th>3</th>\n",
       "      <td>Ahmedabad</td>\n",
       "      <td>2015-01-01 04:00:00</td>\n",
       "      <td>NaN</td>\n",
       "      <td>NaN</td>\n",
       "      <td>0.30</td>\n",
       "      <td>16.45</td>\n",
       "      <td>9.20</td>\n",
       "      <td>NaN</td>\n",
       "      <td>0.30</td>\n",
       "      <td>39.53</td>\n",
       "      <td>153.58</td>\n",
       "      <td>0.0</td>\n",
       "      <td>0.0</td>\n",
       "      <td>0.0</td>\n",
       "      <td>NaN</td>\n",
       "      <td>Moderate</td>\n",
       "      <td>2015</td>\n",
       "      <td>1</td>\n",
       "    </tr>\n",
       "    <tr>\n",
       "      <th>4</th>\n",
       "      <td>Ahmedabad</td>\n",
       "      <td>2015-01-01 05:00:00</td>\n",
       "      <td>NaN</td>\n",
       "      <td>NaN</td>\n",
       "      <td>0.12</td>\n",
       "      <td>14.90</td>\n",
       "      <td>7.85</td>\n",
       "      <td>NaN</td>\n",
       "      <td>0.12</td>\n",
       "      <td>32.63</td>\n",
       "      <td>NaN</td>\n",
       "      <td>0.0</td>\n",
       "      <td>0.0</td>\n",
       "      <td>0.0</td>\n",
       "      <td>NaN</td>\n",
       "      <td>Moderate</td>\n",
       "      <td>2015</td>\n",
       "      <td>1</td>\n",
       "    </tr>\n",
       "  </tbody>\n",
       "</table>\n",
       "</div>"
      ],
      "text/plain": [
       "        City             Datetime  PM2.5  PM10    NO    NO2    NOx  NH3    CO  \\\n",
       "0  Ahmedabad  2015-01-01 01:00:00    NaN   NaN  1.00  40.01  36.37  NaN  1.00   \n",
       "1  Ahmedabad  2015-01-01 02:00:00    NaN   NaN  0.02  27.75  19.73  NaN  0.02   \n",
       "2  Ahmedabad  2015-01-01 03:00:00    NaN   NaN  0.08  19.32  11.08  NaN  0.08   \n",
       "3  Ahmedabad  2015-01-01 04:00:00    NaN   NaN  0.30  16.45   9.20  NaN  0.30   \n",
       "4  Ahmedabad  2015-01-01 05:00:00    NaN   NaN  0.12  14.90   7.85  NaN  0.12   \n",
       "\n",
       "      SO2      O3  Benzene  Toluene  Xylene  AQI AQI_Bucket  year  month  \n",
       "0  122.07     NaN      0.0      0.0     0.0  NaN   Moderate  2015      1  \n",
       "1   85.90     NaN      0.0      0.0     0.0  NaN   Moderate  2015      1  \n",
       "2   52.83     NaN      0.0      0.0     0.0  NaN   Moderate  2015      1  \n",
       "3   39.53  153.58      0.0      0.0     0.0  NaN   Moderate  2015      1  \n",
       "4   32.63     NaN      0.0      0.0     0.0  NaN   Moderate  2015      1  "
      ]
     },
     "execution_count": 17,
     "metadata": {},
     "output_type": "execute_result"
    }
   ],
   "source": [
    "city_hour.head()"
   ]
  },
  {
   "cell_type": "code",
   "execution_count": 29,
   "id": "9b1162d1",
   "metadata": {},
   "outputs": [
    {
     "data": {
      "image/png": "[encoded data removed]",
      "text/plain": [
       "<Figure size 1296x504 with 1 Axes>"
      ]
     },
     "metadata": {},
     "output_type": "display_data"
    }
   ],
   "source": [
    "plt.figure(figsize=(18,7))\n",
    "sns.set(font_scale=1.5)\n",
    "sns.barplot(x='City', y='AQI', data=city_hour,hue='year',palette='bright').set(title ='year wise AQI of states')\n",
    "plt.xticks(rotation=90)\n",
    "plt.show()"
   ]
  },
  {
   "cell_type": "markdown",
   "id": "c0f25236",
   "metadata": {},
   "source": [
    "### The plot shows a huge spike in the AQI for the city of Ahmedabad during the years 2018 & 2019"
   ]
  },
  {
   "cell_type": "code",
   "execution_count": 30,
   "id": "0f982ba4",
   "metadata": {},
   "outputs": [],
   "source": [
    "month_wise = city_hour.groupby(['City','month']).agg(\n",
    "    #month = pd.NamedAgg(column='month',aggfunc = max),\n",
    "    AQI = pd.NamedAgg(column = 'AQI',aggfunc = np.mean))\n",
    "month_wise.reset_index(inplace = True)"
   ]
  },
  {
   "cell_type": "code",
   "execution_count": 31,
   "id": "400a69aa",
   "metadata": {},
   "outputs": [
    {
     "data": {
      "text/html": [
       "<div>\n",
       "<style scoped>\n",
       "    .dataframe tbody tr th:only-of-type {\n",
       "        vertical-align: middle;\n",
       "    }\n",
       "\n",
       "    .dataframe tbody tr th {\n",
       "        vertical-align: top;\n",
       "    }\n",
       "\n",
       "    .dataframe thead th {\n",
       "        text-align: right;\n",
       "    }\n",
       "</style>\n",
       "<table border=\"1\" class=\"dataframe\">\n",
       "  <thead>\n",
       "    <tr style=\"text-align: right;\">\n",
       "      <th></th>\n",
       "      <th>City</th>\n",
       "      <th>month</th>\n",
       "      <th>AQI</th>\n",
       "    </tr>\n",
       "  </thead>\n",
       "  <tbody>\n",
       "    <tr>\n",
       "      <th>0</th>\n",
       "      <td>Ahmedabad</td>\n",
       "      <td>1</td>\n",
       "      <td>598.442354</td>\n",
       "    </tr>\n",
       "    <tr>\n",
       "      <th>1</th>\n",
       "      <td>Ahmedabad</td>\n",
       "      <td>2</td>\n",
       "      <td>642.737132</td>\n",
       "    </tr>\n",
       "    <tr>\n",
       "      <th>2</th>\n",
       "      <td>Ahmedabad</td>\n",
       "      <td>3</td>\n",
       "      <td>522.690459</td>\n",
       "    </tr>\n",
       "    <tr>\n",
       "      <th>3</th>\n",
       "      <td>Ahmedabad</td>\n",
       "      <td>4</td>\n",
       "      <td>403.286046</td>\n",
       "    </tr>\n",
       "    <tr>\n",
       "      <th>4</th>\n",
       "      <td>Ahmedabad</td>\n",
       "      <td>5</td>\n",
       "      <td>274.363001</td>\n",
       "    </tr>\n",
       "  </tbody>\n",
       "</table>\n",
       "</div>"
      ],
      "text/plain": [
       "        City  month         AQI\n",
       "0  Ahmedabad      1  598.442354\n",
       "1  Ahmedabad      2  642.737132\n",
       "2  Ahmedabad      3  522.690459\n",
       "3  Ahmedabad      4  403.286046\n",
       "4  Ahmedabad      5  274.363001"
      ]
     },
     "execution_count": 31,
     "metadata": {},
     "output_type": "execute_result"
    }
   ],
   "source": [
    "month_wise.head()"
   ]
  },
  {
   "cell_type": "code",
   "execution_count": 32,
   "id": "632f5944",
   "metadata": {},
   "outputs": [
    {
     "data": {
      "text/html": [
       "<div>\n",
       "<style scoped>\n",
       "    .dataframe tbody tr th:only-of-type {\n",
       "        vertical-align: middle;\n",
       "    }\n",
       "\n",
       "    .dataframe tbody tr th {\n",
       "        vertical-align: top;\n",
       "    }\n",
       "\n",
       "    .dataframe thead th {\n",
       "        text-align: right;\n",
       "    }\n",
       "</style>\n",
       "<table border=\"1\" class=\"dataframe\">\n",
       "  <thead>\n",
       "    <tr style=\"text-align: right;\">\n",
       "      <th></th>\n",
       "      <th>City</th>\n",
       "      <th>AQI</th>\n",
       "    </tr>\n",
       "  </thead>\n",
       "  <tbody>\n",
       "    <tr>\n",
       "      <th>25127</th>\n",
       "      <td>Ahmedabad</td>\n",
       "      <td>3133.0</td>\n",
       "    </tr>\n",
       "    <tr>\n",
       "      <th>25128</th>\n",
       "      <td>Ahmedabad</td>\n",
       "      <td>3133.0</td>\n",
       "    </tr>\n",
       "    <tr>\n",
       "      <th>25133</th>\n",
       "      <td>Ahmedabad</td>\n",
       "      <td>3133.0</td>\n",
       "    </tr>\n",
       "    <tr>\n",
       "      <th>25132</th>\n",
       "      <td>Ahmedabad</td>\n",
       "      <td>3133.0</td>\n",
       "    </tr>\n",
       "    <tr>\n",
       "      <th>25131</th>\n",
       "      <td>Ahmedabad</td>\n",
       "      <td>3133.0</td>\n",
       "    </tr>\n",
       "  </tbody>\n",
       "</table>\n",
       "</div>"
      ],
      "text/plain": [
       "            City     AQI\n",
       "25127  Ahmedabad  3133.0\n",
       "25128  Ahmedabad  3133.0\n",
       "25133  Ahmedabad  3133.0\n",
       "25132  Ahmedabad  3133.0\n",
       "25131  Ahmedabad  3133.0"
      ]
     },
     "execution_count": 32,
     "metadata": {},
     "output_type": "execute_result"
    }
   ],
   "source": [
    "city_hour[city_hour['City']=='Ahmedabad'].sort_values('AQI',ascending=False).head()[['City','AQI']]"
   ]
  },
  {
   "cell_type": "code",
   "execution_count": 33,
   "id": "7d237b2e",
   "metadata": {},
   "outputs": [
    {
     "data": {
      "image/png": "[encoded data removed]",
      "text/plain": [
       "<Figure size 1296x720 with 1 Axes>"
      ]
     },
     "metadata": {},
     "output_type": "display_data"
    }
   ],
   "source": [
    "plt.figure(figsize=(18,10))\n",
    "sns.set(font_scale=1.5)\n",
    "sns.barplot(x='City', y='AQI', data=month_wise,hue='month',palette = 'bright').set(title ='Month wise AQI of states')\n",
    "plt.xticks(rotation=90)\n",
    "plt.show()"
   ]
  },
  {
   "cell_type": "markdown",
   "id": "26d65ef8",
   "metadata": {},
   "source": [
    "### Tha AQI among most cities spiked on Nov, Dec, Jan & Feb months, Could be an indicator of how the way of celebrating certain festivals(which fall during or close to these months) effect the environment around us."
   ]
  },
  {
   "cell_type": "markdown",
   "id": "46aaf910",
   "metadata": {},
   "source": [
    "# now we look at different cities"
   ]
  },
  {
   "cell_type": "code",
   "execution_count": 128,
   "id": "da3315dd",
   "metadata": {},
   "outputs": [
    {
     "data": {
      "text/html": [
       "<div>\n",
       "<style scoped>\n",
       "    .dataframe tbody tr th:only-of-type {\n",
       "        vertical-align: middle;\n",
       "    }\n",
       "\n",
       "    .dataframe tbody tr th {\n",
       "        vertical-align: top;\n",
       "    }\n",
       "\n",
       "    .dataframe thead th {\n",
       "        text-align: right;\n",
       "    }\n",
       "</style>\n",
       "<table border=\"1\" class=\"dataframe\">\n",
       "  <thead>\n",
       "    <tr style=\"text-align: right;\">\n",
       "      <th></th>\n",
       "      <th>City</th>\n",
       "      <th>Date</th>\n",
       "      <th>PM2.5</th>\n",
       "      <th>PM10</th>\n",
       "      <th>NO</th>\n",
       "      <th>NO2</th>\n",
       "      <th>NOx</th>\n",
       "      <th>NH3</th>\n",
       "      <th>CO</th>\n",
       "      <th>SO2</th>\n",
       "      <th>O3</th>\n",
       "      <th>Benzene</th>\n",
       "      <th>Toluene</th>\n",
       "      <th>Xylene</th>\n",
       "      <th>AQI</th>\n",
       "      <th>Air_Quality</th>\n",
       "    </tr>\n",
       "  </thead>\n",
       "  <tbody>\n",
       "    <tr>\n",
       "      <th>0</th>\n",
       "      <td>Ahmedabad</td>\n",
       "      <td>2015-01-01</td>\n",
       "      <td>11.00</td>\n",
       "      <td>94.00</td>\n",
       "      <td>0.92</td>\n",
       "      <td>18.22</td>\n",
       "      <td>17.15</td>\n",
       "      <td>6.29</td>\n",
       "      <td>0.92</td>\n",
       "      <td>27.64</td>\n",
       "      <td>133.36</td>\n",
       "      <td>0.00</td>\n",
       "      <td>0.02</td>\n",
       "      <td>0.00</td>\n",
       "      <td>102.0</td>\n",
       "      <td>Moderate</td>\n",
       "    </tr>\n",
       "    <tr>\n",
       "      <th>1</th>\n",
       "      <td>Ahmedabad</td>\n",
       "      <td>2015-01-02</td>\n",
       "      <td>48.56</td>\n",
       "      <td>95.68</td>\n",
       "      <td>0.97</td>\n",
       "      <td>15.69</td>\n",
       "      <td>16.46</td>\n",
       "      <td>15.85</td>\n",
       "      <td>0.97</td>\n",
       "      <td>24.55</td>\n",
       "      <td>34.06</td>\n",
       "      <td>3.68</td>\n",
       "      <td>5.50</td>\n",
       "      <td>3.77</td>\n",
       "      <td>118.0</td>\n",
       "      <td>Moderate</td>\n",
       "    </tr>\n",
       "    <tr>\n",
       "      <th>2</th>\n",
       "      <td>Ahmedabad</td>\n",
       "      <td>2015-01-03</td>\n",
       "      <td>48.56</td>\n",
       "      <td>95.68</td>\n",
       "      <td>17.40</td>\n",
       "      <td>19.30</td>\n",
       "      <td>29.70</td>\n",
       "      <td>15.85</td>\n",
       "      <td>17.40</td>\n",
       "      <td>29.07</td>\n",
       "      <td>30.70</td>\n",
       "      <td>6.80</td>\n",
       "      <td>16.40</td>\n",
       "      <td>2.25</td>\n",
       "      <td>118.0</td>\n",
       "      <td>Moderate</td>\n",
       "    </tr>\n",
       "    <tr>\n",
       "      <th>3</th>\n",
       "      <td>Ahmedabad</td>\n",
       "      <td>2015-01-04</td>\n",
       "      <td>48.56</td>\n",
       "      <td>95.68</td>\n",
       "      <td>1.70</td>\n",
       "      <td>18.48</td>\n",
       "      <td>17.97</td>\n",
       "      <td>15.85</td>\n",
       "      <td>1.70</td>\n",
       "      <td>18.59</td>\n",
       "      <td>36.08</td>\n",
       "      <td>4.43</td>\n",
       "      <td>10.14</td>\n",
       "      <td>1.00</td>\n",
       "      <td>118.0</td>\n",
       "      <td>Moderate</td>\n",
       "    </tr>\n",
       "    <tr>\n",
       "      <th>4</th>\n",
       "      <td>Ahmedabad</td>\n",
       "      <td>2015-01-05</td>\n",
       "      <td>48.56</td>\n",
       "      <td>95.68</td>\n",
       "      <td>22.10</td>\n",
       "      <td>21.42</td>\n",
       "      <td>37.76</td>\n",
       "      <td>15.85</td>\n",
       "      <td>22.10</td>\n",
       "      <td>39.33</td>\n",
       "      <td>39.31</td>\n",
       "      <td>7.01</td>\n",
       "      <td>18.89</td>\n",
       "      <td>2.78</td>\n",
       "      <td>118.0</td>\n",
       "      <td>Moderate</td>\n",
       "    </tr>\n",
       "  </tbody>\n",
       "</table>\n",
       "</div>"
      ],
      "text/plain": [
       "        City        Date  PM2.5   PM10     NO    NO2    NOx    NH3     CO  \\\n",
       "0  Ahmedabad  2015-01-01  11.00  94.00   0.92  18.22  17.15   6.29   0.92   \n",
       "1  Ahmedabad  2015-01-02  48.56  95.68   0.97  15.69  16.46  15.85   0.97   \n",
       "2  Ahmedabad  2015-01-03  48.56  95.68  17.40  19.30  29.70  15.85  17.40   \n",
       "3  Ahmedabad  2015-01-04  48.56  95.68   1.70  18.48  17.97  15.85   1.70   \n",
       "4  Ahmedabad  2015-01-05  48.56  95.68  22.10  21.42  37.76  15.85  22.10   \n",
       "\n",
       "     SO2      O3  Benzene  Toluene  Xylene    AQI Air_Quality  \n",
       "0  27.64  133.36     0.00     0.02    0.00  102.0    Moderate  \n",
       "1  24.55   34.06     3.68     5.50    3.77  118.0    Moderate  \n",
       "2  29.07   30.70     6.80    16.40    2.25  118.0    Moderate  \n",
       "3  18.59   36.08     4.43    10.14    1.00  118.0    Moderate  \n",
       "4  39.33   39.31     7.01    18.89    2.78  118.0    Moderate  "
      ]
     },
     "execution_count": 128,
     "metadata": {},
     "output_type": "execute_result"
    }
   ],
   "source": [
    "city_day.head()"
   ]
  },
  {
   "cell_type": "markdown",
   "id": "2d104bbd",
   "metadata": {},
   "source": [
    "#### data preprocessing"
   ]
  },
  {
   "cell_type": "code",
   "execution_count": 129,
   "id": "ad830a2d",
   "metadata": {},
   "outputs": [
    {
     "data": {
      "text/plain": [
       "(29531, 16)"
      ]
     },
     "execution_count": 129,
     "metadata": {},
     "output_type": "execute_result"
    }
   ],
   "source": [
    "city_day.shape"
   ]
  },
  {
   "cell_type": "code",
   "execution_count": 130,
   "id": "6d1bc858",
   "metadata": {},
   "outputs": [
    {
     "data": {
      "text/plain": [
       "26"
      ]
     },
     "execution_count": 130,
     "metadata": {},
     "output_type": "execute_result"
    }
   ],
   "source": [
    "city_day['City'].nunique()"
   ]
  },
  {
   "cell_type": "markdown",
   "id": "3f4a2608",
   "metadata": {},
   "source": [
    "#### handling missing values"
   ]
  },
  {
   "cell_type": "code",
   "execution_count": 134,
   "id": "7e65ce0d",
   "metadata": {},
   "outputs": [
    {
     "data": {
      "text/plain": [
       "City           0\n",
       "Date           0\n",
       "PM2.5          0\n",
       "PM10           0\n",
       "NO             0\n",
       "NO2            0\n",
       "NOx            0\n",
       "NH3            0\n",
       "CO             0\n",
       "SO2            0\n",
       "O3             0\n",
       "Benzene        0\n",
       "Toluene        0\n",
       "Xylene         0\n",
       "AQI            0\n",
       "Air_Quality    0\n",
       "dtype: int64"
      ]
     },
     "execution_count": 134,
     "metadata": {},
     "output_type": "execute_result"
    }
   ],
   "source": [
    "city_day.isnull().sum()"
   ]
  },
  {
   "cell_type": "code",
   "execution_count": 135,
   "id": "04c0e6d3",
   "metadata": {},
   "outputs": [
    {
     "data": {
      "text/plain": [
       "Index(['City', 'Date', 'PM2.5', 'PM10', 'NO', 'NO2', 'NOx', 'NH3', 'CO', 'SO2',\n",
       "       'O3', 'Benzene', 'Toluene', 'Xylene', 'AQI', 'Air_Quality'],\n",
       "      dtype='object')"
      ]
     },
     "execution_count": 135,
     "metadata": {},
     "output_type": "execute_result"
    }
   ],
   "source": [
    "cols = city_day.columns\n",
    "cols"
   ]
  },
  {
   "cell_type": "code",
   "execution_count": 136,
   "id": "8df2626f",
   "metadata": {},
   "outputs": [],
   "source": [
    "col_to_fill = ['PM2.5', 'PM10', 'NO', 'NO2', 'NOx', 'NH3', 'CO', 'SO2',\n",
    "       'O3', 'Benzene', 'Toluene', 'Xylene','AQI']"
   ]
  },
  {
   "cell_type": "code",
   "execution_count": 137,
   "id": "ccbe4e76",
   "metadata": {},
   "outputs": [],
   "source": [
    "#df = df.fillna(df.mean())\n",
    "for col in col_to_fill:\n",
    "    city_day[col] = city_day[col].fillna(city_day[col].median())"
   ]
  },
  {
   "cell_type": "code",
   "execution_count": 140,
   "id": "7b2a6235",
   "metadata": {},
   "outputs": [],
   "source": [
    "city_day['Air_Quality'] = city_day['Air_Quality'].fillna('Moderate')"
   ]
  },
  {
   "cell_type": "code",
   "execution_count": 141,
   "id": "7c5b560f",
   "metadata": {},
   "outputs": [
    {
     "data": {
      "text/plain": [
       "City           0\n",
       "Date           0\n",
       "PM2.5          0\n",
       "PM10           0\n",
       "NO             0\n",
       "NO2            0\n",
       "NOx            0\n",
       "NH3            0\n",
       "CO             0\n",
       "SO2            0\n",
       "O3             0\n",
       "Benzene        0\n",
       "Toluene        0\n",
       "Xylene         0\n",
       "AQI            0\n",
       "Air_Quality    0\n",
       "dtype: int64"
      ]
     },
     "execution_count": 141,
     "metadata": {},
     "output_type": "execute_result"
    }
   ],
   "source": [
    "city_day.isnull().sum()"
   ]
  },
  {
   "cell_type": "code",
   "execution_count": 142,
   "id": "bfa30f9c",
   "metadata": {},
   "outputs": [
    {
     "data": {
      "text/html": [
       "<div>\n",
       "<style scoped>\n",
       "    .dataframe tbody tr th:only-of-type {\n",
       "        vertical-align: middle;\n",
       "    }\n",
       "\n",
       "    .dataframe tbody tr th {\n",
       "        vertical-align: top;\n",
       "    }\n",
       "\n",
       "    .dataframe thead th {\n",
       "        text-align: right;\n",
       "    }\n",
       "</style>\n",
       "<table border=\"1\" class=\"dataframe\">\n",
       "  <thead>\n",
       "    <tr style=\"text-align: right;\">\n",
       "      <th></th>\n",
       "      <th>PM2.5</th>\n",
       "      <th>PM10</th>\n",
       "      <th>NO</th>\n",
       "      <th>NO2</th>\n",
       "      <th>NOx</th>\n",
       "      <th>NH3</th>\n",
       "      <th>CO</th>\n",
       "      <th>SO2</th>\n",
       "      <th>O3</th>\n",
       "      <th>Benzene</th>\n",
       "      <th>Toluene</th>\n",
       "      <th>Xylene</th>\n",
       "      <th>AQI</th>\n",
       "    </tr>\n",
       "  </thead>\n",
       "  <tbody>\n",
       "    <tr>\n",
       "      <th>0</th>\n",
       "      <td>11.00</td>\n",
       "      <td>94.00</td>\n",
       "      <td>0.92</td>\n",
       "      <td>18.22</td>\n",
       "      <td>17.15</td>\n",
       "      <td>6.29</td>\n",
       "      <td>0.92</td>\n",
       "      <td>27.64</td>\n",
       "      <td>133.36</td>\n",
       "      <td>0.00</td>\n",
       "      <td>0.02</td>\n",
       "      <td>0.00</td>\n",
       "      <td>102.0</td>\n",
       "    </tr>\n",
       "    <tr>\n",
       "      <th>1</th>\n",
       "      <td>48.56</td>\n",
       "      <td>95.68</td>\n",
       "      <td>0.97</td>\n",
       "      <td>15.69</td>\n",
       "      <td>16.46</td>\n",
       "      <td>15.85</td>\n",
       "      <td>0.97</td>\n",
       "      <td>24.55</td>\n",
       "      <td>34.06</td>\n",
       "      <td>3.68</td>\n",
       "      <td>5.50</td>\n",
       "      <td>3.77</td>\n",
       "      <td>118.0</td>\n",
       "    </tr>\n",
       "    <tr>\n",
       "      <th>2</th>\n",
       "      <td>48.56</td>\n",
       "      <td>95.68</td>\n",
       "      <td>17.40</td>\n",
       "      <td>19.30</td>\n",
       "      <td>29.70</td>\n",
       "      <td>15.85</td>\n",
       "      <td>17.40</td>\n",
       "      <td>29.07</td>\n",
       "      <td>30.70</td>\n",
       "      <td>6.80</td>\n",
       "      <td>16.40</td>\n",
       "      <td>2.25</td>\n",
       "      <td>118.0</td>\n",
       "    </tr>\n",
       "    <tr>\n",
       "      <th>3</th>\n",
       "      <td>48.56</td>\n",
       "      <td>95.68</td>\n",
       "      <td>1.70</td>\n",
       "      <td>18.48</td>\n",
       "      <td>17.97</td>\n",
       "      <td>15.85</td>\n",
       "      <td>1.70</td>\n",
       "      <td>18.59</td>\n",
       "      <td>36.08</td>\n",
       "      <td>4.43</td>\n",
       "      <td>10.14</td>\n",
       "      <td>1.00</td>\n",
       "      <td>118.0</td>\n",
       "    </tr>\n",
       "    <tr>\n",
       "      <th>4</th>\n",
       "      <td>48.56</td>\n",
       "      <td>95.68</td>\n",
       "      <td>22.10</td>\n",
       "      <td>21.42</td>\n",
       "      <td>37.76</td>\n",
       "      <td>15.85</td>\n",
       "      <td>22.10</td>\n",
       "      <td>39.33</td>\n",
       "      <td>39.31</td>\n",
       "      <td>7.01</td>\n",
       "      <td>18.89</td>\n",
       "      <td>2.78</td>\n",
       "      <td>118.0</td>\n",
       "    </tr>\n",
       "  </tbody>\n",
       "</table>\n",
       "</div>"
      ],
      "text/plain": [
       "   PM2.5   PM10     NO    NO2    NOx    NH3     CO    SO2      O3  Benzene  \\\n",
       "0  11.00  94.00   0.92  18.22  17.15   6.29   0.92  27.64  133.36     0.00   \n",
       "1  48.56  95.68   0.97  15.69  16.46  15.85   0.97  24.55   34.06     3.68   \n",
       "2  48.56  95.68  17.40  19.30  29.70  15.85  17.40  29.07   30.70     6.80   \n",
       "3  48.56  95.68   1.70  18.48  17.97  15.85   1.70  18.59   36.08     4.43   \n",
       "4  48.56  95.68  22.10  21.42  37.76  15.85  22.10  39.33   39.31     7.01   \n",
       "\n",
       "   Toluene  Xylene    AQI  \n",
       "0     0.02    0.00  102.0  \n",
       "1     5.50    3.77  118.0  \n",
       "2    16.40    2.25  118.0  \n",
       "3    10.14    1.00  118.0  \n",
       "4    18.89    2.78  118.0  "
      ]
     },
     "execution_count": 142,
     "metadata": {},
     "output_type": "execute_result"
    }
   ],
   "source": [
    "df= city_day.drop(columns = ['City','Date','Air_Quality'])\n",
    "df.head()"
   ]
  },
  {
   "cell_type": "markdown",
   "id": "b65327b1",
   "metadata": {},
   "source": [
    "### Data Modeling"
   ]
  },
  {
   "cell_type": "code",
   "execution_count": 150,
   "id": "8589f4a2",
   "metadata": {},
   "outputs": [
    {
     "name": "stdout",
     "output_type": "stream",
     "text": [
      "(29531, 12)\n",
      "(29531,)\n"
     ]
    }
   ],
   "source": [
    "X=df.drop(['AQI'],axis=1)\n",
    "y=df['AQI']\n",
    "print(X.shape)\n",
    "print(y.shape)"
   ]
  },
  {
   "cell_type": "code",
   "execution_count": 151,
   "id": "718bd44f",
   "metadata": {},
   "outputs": [],
   "source": [
    "from sklearn.model_selection import train_test_split"
   ]
  },
  {
   "cell_type": "code",
   "execution_count": 152,
   "id": "52847e87",
   "metadata": {},
   "outputs": [
    {
     "name": "stdout",
     "output_type": "stream",
     "text": [
      "X_train (23624, 12)\n",
      "X_test (5907, 12)\n",
      "y_train (23624,)\n",
      "y_test (5907,)\n"
     ]
    }
   ],
   "source": [
    "X_train,X_test,y_train,y_test = train_test_split(X,y,test_size=0.2)\n",
    "print('X_train',X_train.shape)\n",
    "print('X_test',X_test.shape)\n",
    "print('y_train',y_train.shape)\n",
    "print('y_test',y_test.shape)"
   ]
  },
  {
   "cell_type": "code",
   "execution_count": 153,
   "id": "eacabae7",
   "metadata": {},
   "outputs": [],
   "source": [
    "from sklearn.preprocessing import StandardScaler"
   ]
  },
  {
   "cell_type": "code",
   "execution_count": 154,
   "id": "86aa4a9b",
   "metadata": {},
   "outputs": [],
   "source": [
    "ss = StandardScaler()\n",
    "scaler = StandardScaler()\n",
    "X_train = pd.DataFrame(scaler.fit_transform(X_train),columns=X_train.columns)\n",
    "\n",
    "X_test = pd.DataFrame(scaler.transform(X_test),columns=X_test.columns)"
   ]
  },
  {
   "cell_type": "markdown",
   "id": "90425d27",
   "metadata": {},
   "source": [
    "### GradientBoostingRegressor"
   ]
  },
  {
   "cell_type": "code",
   "execution_count": 157,
   "id": "4590d87f",
   "metadata": {},
   "outputs": [
    {
     "data": {
      "text/plain": [
       "0.8684214882568531"
      ]
     },
     "execution_count": 157,
     "metadata": {},
     "output_type": "execute_result"
    }
   ],
   "source": [
    "from sklearn.ensemble import GradientBoostingRegressor\n",
    "GBR=GradientBoostingRegressor()\n",
    "GBR.fit(X_train,y_train)\n",
    "GBR.score(X_test,y_test)"
   ]
  },
  {
   "cell_type": "code",
   "execution_count": 158,
   "id": "131f06a9",
   "metadata": {},
   "outputs": [
    {
     "name": "stdout",
     "output_type": "stream",
     "text": [
      "train mse: 1655.8673531364\n",
      "train rmse: 40.692350056692476\n",
      "train r2: 0.9007545795228209\n",
      "\n",
      "test mse: 2382.630951824551\n",
      "test rmse: 48.812200850039034\n",
      "test r2: 0.8684214882568531\n"
     ]
    }
   ],
   "source": [
    "from sklearn.metrics import mean_squared_error, r2_score\n",
    "\n",
    "t_pred=GBR.predict(X_train)\n",
    "print('train mse: {}'.format(\n",
    "    mean_squared_error((y_train), (t_pred))))\n",
    "print('train rmse: {}'.format(\n",
    "    mean_squared_error((y_train), (t_pred), squared=False)))\n",
    "print('train r2: {}'.format(\n",
    "    r2_score((y_train), (t_pred))))\n",
    "print()\n",
    "\n",
    "\n",
    "y_pred=GBR.predict(X_test)\n",
    "print('test mse: {}'.format(\n",
    "    mean_squared_error((y_test), (y_pred))))\n",
    "print('test rmse: {}'.format(\n",
    "    mean_squared_error((y_test), (y_pred), squared=False)))\n",
    "print('test r2: {}'.format(\n",
    "    r2_score((y_test), (y_pred))))"
   ]
  },
  {
   "cell_type": "markdown",
   "id": "8b34dbf5",
   "metadata": {},
   "source": [
    "### Decision Trees"
   ]
  },
  {
   "cell_type": "code",
   "execution_count": 159,
   "id": "7561c6c2",
   "metadata": {},
   "outputs": [
    {
     "data": {
      "text/plain": [
       "0.8130653401229936"
      ]
     },
     "execution_count": 159,
     "metadata": {},
     "output_type": "execute_result"
    }
   ],
   "source": [
    "from sklearn.tree import DecisionTreeRegressor\n",
    "regressor = DecisionTreeRegressor(max_depth=5)\n",
    "regressor.fit(X_train, y_train)\n",
    "regressor.score(X_test,y_test)"
   ]
  },
  {
   "cell_type": "code",
   "execution_count": 161,
   "id": "d7243f84",
   "metadata": {},
   "outputs": [
    {
     "name": "stdout",
     "output_type": "stream",
     "text": [
      "train mse: 2589.412209384201\n",
      "train rmse: 50.886267394889565\n",
      "train r2: 0.844801998769821\n",
      "\n",
      "test mse: 3385.0231370697074\n",
      "test rmse: 58.180951668649314\n",
      "test r2: 0.8130653401229936\n"
     ]
    }
   ],
   "source": [
    "from sklearn.metrics import mean_squared_error, r2_score\n",
    "\n",
    "t_pred=regressor.predict(X_train)\n",
    "print('train mse: {}'.format(\n",
    "    mean_squared_error((y_train), (t_pred))))\n",
    "print('train rmse: {}'.format(\n",
    "    mean_squared_error((y_train), (t_pred), squared=False)))\n",
    "print('train r2: {}'.format(\n",
    "    r2_score((y_train), (t_pred))))\n",
    "print()\n",
    "\n",
    "\n",
    "y_pred=regressor.predict(X_test)\n",
    "print('test mse: {}'.format(\n",
    "    mean_squared_error((y_test), (y_pred))))\n",
    "print('test rmse: {}'.format(\n",
    "    mean_squared_error((y_test), (y_pred), squared=False)))\n",
    "print('test r2: {}'.format(\n",
    "    r2_score((y_test), (y_pred))))"
   ]
  },
  {
   "cell_type": "markdown",
   "id": "fb4fc5a6",
   "metadata": {},
   "source": [
    "### Linear Regression"
   ]
  },
  {
   "cell_type": "code",
   "execution_count": 162,
   "id": "e7fa0238",
   "metadata": {},
   "outputs": [
    {
     "data": {
      "text/plain": [
       "0.7862580425606104"
      ]
     },
     "execution_count": 162,
     "metadata": {},
     "output_type": "execute_result"
    }
   ],
   "source": [
    "from sklearn.linear_model import LinearRegression\n",
    "l = LinearRegression()\n",
    "l.fit(X_train, y_train)\n",
    "l.score(X_test,y_test)"
   ]
  },
  {
   "cell_type": "code",
   "execution_count": 163,
   "id": "4cdbb82d",
   "metadata": {},
   "outputs": [
    {
     "name": "stdout",
     "output_type": "stream",
     "text": [
      "train mse: 3415.3381108755416\n",
      "train rmse: 58.44089416560583\n",
      "train r2: 0.7952996257559186\n",
      "\n",
      "test mse: 3870.4511606940277\n",
      "test rmse: 62.21295010441177\n",
      "test r2: 0.7862580425606104\n"
     ]
    }
   ],
   "source": [
    "from sklearn.metrics import mean_squared_error, r2_score\n",
    "\n",
    "t_pred=l.predict(X_train)\n",
    "print('train mse: {}'.format(\n",
    "    mean_squared_error((y_train), (t_pred))))\n",
    "print('train rmse: {}'.format(\n",
    "    mean_squared_error((y_train), (t_pred), squared=False)))\n",
    "print('train r2: {}'.format(\n",
    "    r2_score((y_train), (t_pred))))\n",
    "print()\n",
    "\n",
    "\n",
    "y_pred=l.predict(X_test)\n",
    "print('test mse: {}'.format(\n",
    "    mean_squared_error((y_test), (y_pred))))\n",
    "print('test rmse: {}'.format(\n",
    "    mean_squared_error((y_test), (y_pred), squared=False)))\n",
    "print('test r2: {}'.format(\n",
    "    r2_score((y_test), (y_pred))))"
   ]
  },
  {
   "cell_type": "markdown",
   "id": "86824d3c",
   "metadata": {},
   "source": [
    "### Random Forest "
   ]
  },
  {
   "cell_type": "code",
   "execution_count": 164,
   "id": "a37f7f14",
   "metadata": {},
   "outputs": [
    {
     "data": {
      "text/plain": [
       "0.8748756287007808"
      ]
     },
     "execution_count": 164,
     "metadata": {},
     "output_type": "execute_result"
    }
   ],
   "source": [
    "from sklearn.ensemble import RandomForestRegressor\n",
    "rf_model = RandomForestRegressor(n_estimators=100, random_state=42)\n",
    "rf_model.fit(X_train, y_train)\n",
    "rf_model.score(X_test,y_test)"
   ]
  },
  {
   "cell_type": "code",
   "execution_count": 165,
   "id": "99a3352d",
   "metadata": {},
   "outputs": [
    {
     "name": "stdout",
     "output_type": "stream",
     "text": [
      "train mse: 322.85828269037347\n",
      "train rmse: 17.96825764203011\n",
      "train r2: 0.9806492917687794\n",
      "\n",
      "test mse: 2265.7590204932117\n",
      "test rmse: 47.59998971106204\n",
      "test r2: 0.8748756287007808\n"
     ]
    }
   ],
   "source": [
    "from sklearn.metrics import mean_squared_error, r2_score\n",
    "\n",
    "t_pred=rf_model.predict(X_train)\n",
    "print('train mse: {}'.format(\n",
    "    mean_squared_error((y_train), (t_pred))))\n",
    "print('train rmse: {}'.format(\n",
    "    mean_squared_error((y_train), (t_pred), squared=False)))\n",
    "print('train r2: {}'.format(\n",
    "    r2_score((y_train), (t_pred))))\n",
    "print()\n",
    "\n",
    "\n",
    "y_pred=rf_model.predict(X_test)\n",
    "print('test mse: {}'.format(\n",
    "    mean_squared_error((y_test), (y_pred))))\n",
    "print('test rmse: {}'.format(\n",
    "    mean_squared_error((y_test), (y_pred), squared=False)))\n",
    "print('test r2: {}'.format(\n",
    "    r2_score((y_test), (y_pred))))"
   ]
  },
  {
   "cell_type": "markdown",
   "id": "8ccb3044",
   "metadata": {},
   "source": [
    "## Out of all Random Forest Regressor performs better than above all regression algorithms"
   ]
  }
 ],
 "metadata": {
  "kernelspec": {
   "display_name": "Python 3",
   "language": "python",
   "name": "python3"
  },
  "language_info": {
   "codemirror_mode": {
    "name": "ipython",
    "version": 3
   },
   "file_extension": ".py",
   "mimetype": "text/x-python",
   "name": "python",
   "nbconvert_exporter": "python",
   "pygments_lexer": "ipython3",
   "version": "3.8.8"
  }
 },
 "nbformat": 4,
 "nbformat_minor": 5
}
